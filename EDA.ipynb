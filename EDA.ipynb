{
 "cells": [
  {
   "cell_type": "code",
   "execution_count": 36,
   "id": "7b0882d0",
   "metadata": {},
   "outputs": [],
   "source": [
    "import pandas as pd\n",
    "import numpy as np\n",
    "import matplotlib.pyplot as plt\n",
    "import seaborn as sns\n",
    "import plotly.express as px"
   ]
  },
  {
   "cell_type": "code",
   "execution_count": 37,
   "id": "15b22b74",
   "metadata": {},
   "outputs": [],
   "source": [
    "mlb = pd.read_csv('final_ballpark_data.csv')\n",
    "mlb.sort_values(by=['TEAM'], ignore_index=True, inplace=True)"
   ]
  },
  {
   "cell_type": "code",
   "execution_count": 38,
   "id": "9fee3086",
   "metadata": {},
   "outputs": [],
   "source": [
    "wins = pd.read_html('https://www.baseball-reference.com/leagues/majors/index.shtml')"
   ]
  },
  {
   "cell_type": "code",
   "execution_count": 39,
   "id": "c0cf8817",
   "metadata": {},
   "outputs": [],
   "source": [
    "wins = wins[0][['Year', 'ARI', 'ATL', 'BAL', 'BOS', 'CHC', 'CHW', 'CIN', 'CLE', 'COL', 'DET', 'HOU', 'KCR', 'LAA', 'LAD', 'MIA', 'MIL', 'MIN', 'NYM', 'NYY', 'OAK', 'PHI', 'PIT', 'SDP', 'SFG', 'SEA', 'STL', 'TBR', 'TEX', 'TOR', 'WSN']]"
   ]
  },
  {
   "cell_type": "code",
   "execution_count": 40,
   "id": "52a011c0",
   "metadata": {},
   "outputs": [],
   "source": [
    "teams = ['TEAM','Arizona', 'Atlanta', 'Baltimore', 'Boston', 'Chicago Cubs', 'Chicago White Sox', 'Cincinnati', 'Cleveland', 'Colorado', 'Detroit', 'Houston', 'Kansas City', 'LA Angels', 'LA Dodgers', 'Miami', 'Milwaukee', 'Minnesota', 'NY Mets', 'NY Yankees', 'Oakland', 'Philadelphia', 'Pittsburgh', 'San Diego', 'San Francisco', 'Seattle', 'St. Louis', 'Tampa Bay', 'Texas', 'Toronto', 'Washington']"
   ]
  },
  {
   "cell_type": "code",
   "execution_count": 41,
   "id": "3dadb32e",
   "metadata": {},
   "outputs": [],
   "source": [
    "wins.set_axis(teams, axis=1, inplace=True)"
   ]
  },
  {
   "cell_type": "code",
   "execution_count": 42,
   "id": "8fb5a747",
   "metadata": {},
   "outputs": [],
   "source": [
    "new_wins=wins.transpose().reset_index()"
   ]
  },
  {
   "cell_type": "code",
   "execution_count": 43,
   "id": "c1165dd8",
   "metadata": {},
   "outputs": [],
   "source": [
    "new_wins=new_wins.iloc[:,:12]"
   ]
  },
  {
   "cell_type": "code",
   "execution_count": 44,
   "id": "180a2600",
   "metadata": {},
   "outputs": [],
   "source": [
    "new_wins.columns = new_wins.iloc[0]\n",
    "new_wins = new_wins[1:]\n",
    "#new_wins[new_wins.columns] = new_wins[new_wins.columns].apply(pd.to_numeric, errors='coerce')"
   ]
  },
  {
   "cell_type": "code",
   "execution_count": 45,
   "id": "f2d18087",
   "metadata": {},
   "outputs": [],
   "source": [
    "df = mlb.merge(new_wins, on='TEAM', how='inner')"
   ]
  },
  {
   "cell_type": "code",
   "execution_count": 46,
   "id": "37826721",
   "metadata": {},
   "outputs": [],
   "source": [
    "rec_wins = wins.iloc[:11,:]"
   ]
  },
  {
   "cell_type": "code",
   "execution_count": 47,
   "id": "f841a0c5",
   "metadata": {},
   "outputs": [],
   "source": [
    "cols = ['Year','Arizona', 'Atlanta', 'Baltimore', 'Boston', 'Chicago Cubs', 'Chicago White Sox', 'Cincinnati', 'Cleveland', 'Colorado', 'Detroit', 'Houston', 'Kansas City', 'LA Angels', 'LA Dodgers', 'Miami', 'Milwaukee', 'Minnesota', 'NY Mets', 'NY Yankees', 'Oakland', 'Philadelphia', 'Pittsburgh', 'San Diego', 'San Francisco', 'Seattle', 'St. Louis', 'Tampa Bay', 'Texas', 'Toronto', 'Washington']\n",
    "rec_wins.columns = cols"
   ]
  },
  {
   "cell_type": "code",
   "execution_count": 49,
   "id": "33107f35",
   "metadata": {},
   "outputs": [
    {
     "name": "stderr",
     "output_type": "stream",
     "text": [
      "/var/folders/y0/zyyyxk_s6fd8pksq6s_4htkm0000gn/T/ipykernel_81812/2451747839.py:1: SettingWithCopyWarning:\n",
      "\n",
      "\n",
      "A value is trying to be set on a copy of a slice from a DataFrame.\n",
      "Try using .loc[row_indexer,col_indexer] = value instead\n",
      "\n",
      "See the caveats in the documentation: https://pandas.pydata.org/pandas-docs/stable/user_guide/indexing.html#returning-a-view-versus-a-copy\n",
      "\n"
     ]
    }
   ],
   "source": [
    "rec_wins[rec_wins.columns] = rec_wins[rec_wins.columns].apply(pd.to_numeric, errors='coerce')"
   ]
  },
  {
   "cell_type": "code",
   "execution_count": 50,
   "id": "5b1c27d8",
   "metadata": {},
   "outputs": [
    {
     "data": {
      "text/plain": [
       "(array([1., 0., 0., 0., 0., 2., 2., 1., 4., 1.]),\n",
       " array([ 24. ,  32.4,  40.8,  49.2,  57.6,  66. ,  74.4,  82.8,  91.2,\n",
       "         99.6, 108. ]),\n",
       " <BarContainer object of 10 artists>)"
      ]
     },
     "execution_count": 50,
     "metadata": {},
     "output_type": "execute_result"
    },
    {
     "data": {
      "image/png": "[encoded data removed]",
      "text/plain": [
       "<Figure size 432x288 with 1 Axes>"
      ]
     },
     "metadata": {
      "needs_background": "light"
     },
     "output_type": "display_data"
    }
   ],
   "source": [
    "plt.hist(data=rec_wins, x='Boston')"
   ]
  },
  {
   "cell_type": "code",
   "execution_count": 51,
   "id": "280e2987",
   "metadata": {},
   "outputs": [],
   "source": [
    "corr_cols = []\n",
    "for i in df.columns:\n",
    "    if '2020' not in i and '2021' not in i and '2022' not in i:\n",
    "        if 'AVG_overall' in i:\n",
    "            corr_cols.append(i)\n",
    "        if '_' not in i:\n",
    "            corr_cols.append(i)"
   ]
  },
  {
   "cell_type": "code",
   "execution_count": 52,
   "id": "b8260af5",
   "metadata": {},
   "outputs": [],
   "source": [
    "corr_df = df[corr_cols]"
   ]
  },
  {
   "cell_type": "code",
   "execution_count": 53,
   "id": "27711ecf",
   "metadata": {},
   "outputs": [
    {
     "name": "stderr",
     "output_type": "stream",
     "text": [
      "/var/folders/y0/zyyyxk_s6fd8pksq6s_4htkm0000gn/T/ipykernel_81812/81201206.py:1: SettingWithCopyWarning:\n",
      "\n",
      "\n",
      "A value is trying to be set on a copy of a slice from a DataFrame.\n",
      "Try using .loc[row_indexer,col_indexer] = value instead\n",
      "\n",
      "See the caveats in the documentation: https://pandas.pydata.org/pandas-docs/stable/user_guide/indexing.html#returning-a-view-versus-a-copy\n",
      "\n"
     ]
    }
   ],
   "source": [
    "corr_df[['2019', '2018', '2017', '2016', '2015', '2014', '2013', '2012']] = corr_df[['2019', '2018', '2017', '2016', '2015', '2014', '2013', '2012']].apply(pd.to_numeric, errors='coerce')"
   ]
  },
  {
   "cell_type": "code",
   "execution_count": 67,
   "id": "fb74219c",
   "metadata": {},
   "outputs": [
    {
     "data": {
      "image/png": "[encoded data removed]",
      "text/plain": [
       "<Figure size 2880x1440 with 8 Axes>"
      ]
     },
     "metadata": {
      "needs_background": "light"
     },
     "output_type": "display_data"
    }
   ],
   "source": [
    "fig, axes = plt.subplots(2, 4, sharex=True, figsize=(40,20))\n",
    "sns.regplot(data=corr_df, x='2019_AVG_overall', y='2019', ax=axes[0][0], lowess=True).set(title='2019')\n",
    "sns.regplot(data=corr_df, x='2018_AVG_overall', y='2018', ax=axes[1][0], lowess=True).set(title='2018')\n",
    "sns.regplot(data=corr_df, x='2017_AVG_overall', y='2017', ax=axes[0][1], lowess=True).set(title='2017')\n",
    "sns.regplot(data=corr_df, x='2016_AVG_overall', y='2016', ax=axes[1][1], lowess=True).set(title='2016')\n",
    "sns.regplot(data=corr_df, x='2015_AVG_overall', y='2015', ax=axes[0][2], lowess=True).set(title='2015')\n",
    "sns.regplot(data=corr_df, x='2014_AVG_overall', y='2014', ax=axes[1][2], lowess=True).set(title='2014')\n",
    "sns.regplot(data=corr_df, x='2013_AVG_overall', y='2013', ax=axes[0][3], lowess=True).set(title='2013')\n",
    "sns.regplot(data=corr_df, x='2012_AVG_overall', y='2012', ax=axes[1][3], lowess=True).set(title='2012')\n",
    "plt.savefig('avg_overall_scatter.png')\n",
    "plt.show()"
   ]
  },
  {
   "cell_type": "code",
   "execution_count": 55,
   "id": "4b151f69",
   "metadata": {},
   "outputs": [
    {
     "data": {
      "image/png": "[encoded data removed]",
      "text/plain": [
       "<Figure size 2160x2160 with 2 Axes>"
      ]
     },
     "metadata": {
      "needs_background": "light"
     },
     "output_type": "display_data"
    }
   ],
   "source": [
    "plt.figure(figsize=(30,30))\n",
    "sns.heatmap(data=corr_df.corr(), annot=True, cmap='Greens').set(title='Correlation Heatmap for % Overall Attendance and Wins')\n",
    "plt.show()\n"
   ]
  },
  {
   "cell_type": "code",
   "execution_count": 56,
   "id": "9b881cb4",
   "metadata": {},
   "outputs": [],
   "source": [
    "pct_cols = []\n",
    "for i in df.columns:\n",
    "    if '2019' not in i and '2020' not in i and '2021' not in i and '2022' not in i:\n",
    "        if 'PCT_home' in i:\n",
    "            pct_cols.append(i)\n",
    "        if '_' not in i:\n",
    "            pct_cols.append(i)"
   ]
  },
  {
   "cell_type": "code",
   "execution_count": 57,
   "id": "ef1d875a",
   "metadata": {},
   "outputs": [],
   "source": [
    "pct_df = df[pct_cols]"
   ]
  },
  {
   "cell_type": "code",
   "execution_count": 58,
   "id": "c130559c",
   "metadata": {},
   "outputs": [
    {
     "name": "stderr",
     "output_type": "stream",
     "text": [
      "/var/folders/y0/zyyyxk_s6fd8pksq6s_4htkm0000gn/T/ipykernel_81812/439373117.py:1: SettingWithCopyWarning:\n",
      "\n",
      "\n",
      "A value is trying to be set on a copy of a slice from a DataFrame.\n",
      "Try using .loc[row_indexer,col_indexer] = value instead\n",
      "\n",
      "See the caveats in the documentation: https://pandas.pydata.org/pandas-docs/stable/user_guide/indexing.html#returning-a-view-versus-a-copy\n",
      "\n"
     ]
    }
   ],
   "source": [
    "pct_df[['2018', '2017', '2016', '2015', '2014', '2013', '2012']] = pct_df[['2018', '2017', '2016', '2015', '2014', '2013', '2012']].apply(pd.to_numeric, errors='coerce')"
   ]
  },
  {
   "cell_type": "code",
   "execution_count": 68,
   "id": "ed8b8dbe",
   "metadata": {},
   "outputs": [
    {
     "data": {
      "image/png": "[encoded data removed]",
      "text/plain": [
       "<Figure size 2880x1440 with 8 Axes>"
      ]
     },
     "metadata": {
      "needs_background": "light"
     },
     "output_type": "display_data"
    }
   ],
   "source": [
    "fig, axes = plt.subplots(2, 4, sharex=True, figsize=(40,20))\n",
    "sns.regplot(data=pct_df, x='2018_PCT_home', y='2018', ax=axes[0][0], lowess=True).set(title='2018')\n",
    "#sns.regplot(data=pct_df, x='2018_PCT_home', y='2018', ax=axes[0][1], lowess=True).set(title='2018')\n",
    "sns.regplot(data=pct_df, x='2017_PCT_home', y='2017', ax=axes[0][1], lowess=True).set(title='2017')\n",
    "sns.regplot(data=pct_df, x='2016_PCT_home', y='2016', ax=axes[0][2], lowess=True).set(title='2016')\n",
    "sns.regplot(data=pct_df, x='2015_PCT_home', y='2015', ax=axes[0][3], lowess=True).set(title='2015')\n",
    "sns.regplot(data=pct_df, x='2014_PCT_home', y='2014', ax=axes[1][0], lowess=True).set(title='2014')\n",
    "sns.regplot(data=pct_df, x='2013_PCT_home', y='2013', ax=axes[1][1], lowess=True).set(title='2013')\n",
    "sns.regplot(data=pct_df, x='2012_PCT_home', y='2012', ax=axes[1][2], lowess=True).set(title='2012')\n",
    "plt.savefig('pct_home_scatter.png')\n",
    "plt.show()"
   ]
  },
  {
   "cell_type": "code",
   "execution_count": 60,
   "id": "00006aef",
   "metadata": {},
   "outputs": [
    {
     "data": {
      "image/png": "[encoded data removed]",
      "text/plain": [
       "<Figure size 2160x2160 with 2 Axes>"
      ]
     },
     "metadata": {
      "needs_background": "light"
     },
     "output_type": "display_data"
    }
   ],
   "source": [
    "plt.figure(figsize=(30,30))\n",
    "sns.heatmap(data=pct_df.corr(), annot=True, cmap='Reds').set(title='Correlation Heatmap for % Home Attendance and Wins')\n",
    "plt.show()"
   ]
  },
  {
   "cell_type": "code",
   "execution_count": 61,
   "id": "a0a0b6ec",
   "metadata": {},
   "outputs": [],
   "source": [
    "home_road_cols = []\n",
    "for i in df.columns:\n",
    "    if '2019' not in i and '2020' not in i and '2021' not in i and '2022' not in i:\n",
    "        if 'PCT_home' in i or 'PCT_road' in i or 'AVG_home' in i or 'AVG_road' in i:\n",
    "            home_road_cols.append(i)\n",
    "        if i == 'TEAM':\n",
    "            home_road_cols.append(i)"
   ]
  },
  {
   "cell_type": "code",
   "execution_count": 62,
   "id": "1bc417e7",
   "metadata": {},
   "outputs": [],
   "source": [
    "home_road = df[home_road_cols]"
   ]
  },
  {
   "cell_type": "code",
   "execution_count": 64,
   "id": "362ab483",
   "metadata": {},
   "outputs": [
    {
     "data": {
      "application/vnd.plotly.v1+json": {
       "config": {
        "plotlyServerURL": "https://plot.ly"
       },
       "data": [
        {
         "hovertemplate": "TEAM=Arizona<br>2018_AVG_home=%{x}<br>2018_AVG_road=%{y}<extra></extra>",
         "legendgroup": "Arizona",
         "marker": {
          "color": "#636efa",
          "symbol": "circle"
         },
         "mode": "markers",
         "name": "Arizona",
         "orientation": "v",
         "showlegend": true,
         "type": "scatter",
         "x": [
          27687
         ],
         "xaxis": "x",
         "y": [
          31832
         ],
         "yaxis": "y"
        },
        {
         "hovertemplate": "TEAM=Atlanta<br>2018_AVG_home=%{x}<br>2018_AVG_road=%{y}<extra></extra>",
         "legendgroup": "Atlanta",
         "marker": {
          "color": "#EF553B",
          "symbol": "circle"
         },
         "mode": "markers",
         "name": "Atlanta",
         "orientation": "v",
         "showlegend": true,
         "type": "scatter",
         "x": [
          31552
         ],
         "xaxis": "x",
         "y": [
          27826
         ],
         "yaxis": "y"
        },
        {
         "hovertemplate": "TEAM=Baltimore<br>2018_AVG_home=%{x}<br>2018_AVG_road=%{y}<extra></extra>",
         "legendgroup": "Baltimore",
         "marker": {
          "color": "#00cc96",
          "symbol": "circle"
         },
         "mode": "markers",
         "name": "Baltimore",
         "orientation": "v",
         "showlegend": true,
         "type": "scatter",
         "x": [
          20053
         ],
         "xaxis": "x",
         "y": [
          27204
         ],
         "yaxis": "y"
        },
        {
         "hovertemplate": "TEAM=Boston<br>2018_AVG_home=%{x}<br>2018_AVG_road=%{y}<extra></extra>",
         "legendgroup": "Boston",
         "marker": {
          "color": "#ab63fa",
          "symbol": "circle"
         },
         "mode": "markers",
         "name": "Boston",
         "orientation": "v",
         "showlegend": true,
         "type": "scatter",
         "x": [
          35747
         ],
         "xaxis": "x",
         "y": [
          29992
         ],
         "yaxis": "y"
        },
        {
         "hovertemplate": "TEAM=Chicago Cubs<br>2018_AVG_home=%{x}<br>2018_AVG_road=%{y}<extra></extra>",
         "legendgroup": "Chicago Cubs",
         "marker": {
          "color": "#FFA15A",
          "symbol": "circle"
         },
         "mode": "markers",
         "name": "Chicago Cubs",
         "orientation": "v",
         "showlegend": true,
         "type": "scatter",
         "x": [
          38793
         ],
         "xaxis": "x",
         "y": [
          32800
         ],
         "yaxis": "y"
        },
        {
         "hovertemplate": "TEAM=Chicago White Sox<br>2018_AVG_home=%{x}<br>2018_AVG_road=%{y}<extra></extra>",
         "legendgroup": "Chicago White Sox",
         "marker": {
          "color": "#19d3f3",
          "symbol": "circle"
         },
         "mode": "markers",
         "name": "Chicago White Sox",
         "orientation": "v",
         "showlegend": true,
         "type": "scatter",
         "x": [
          20110
         ],
         "xaxis": "x",
         "y": [
          26240
         ],
         "yaxis": "y"
        },
        {
         "hovertemplate": "TEAM=Cincinnati<br>2018_AVG_home=%{x}<br>2018_AVG_road=%{y}<extra></extra>",
         "legendgroup": "Cincinnati",
         "marker": {
          "color": "#FF6692",
          "symbol": "circle"
         },
         "mode": "markers",
         "name": "Cincinnati",
         "orientation": "v",
         "showlegend": true,
         "type": "scatter",
         "x": [
          20115
         ],
         "xaxis": "x",
         "y": [
          29918
         ],
         "yaxis": "y"
        },
        {
         "hovertemplate": "TEAM=Cleveland<br>2018_AVG_home=%{x}<br>2018_AVG_road=%{y}<extra></extra>",
         "legendgroup": "Cleveland",
         "marker": {
          "color": "#B6E880",
          "symbol": "circle"
         },
         "mode": "markers",
         "name": "Cleveland",
         "orientation": "v",
         "showlegend": true,
         "type": "scatter",
         "x": [
          24083
         ],
         "xaxis": "x",
         "y": [
          26088
         ],
         "yaxis": "y"
        },
        {
         "hovertemplate": "TEAM=Colorado<br>2018_AVG_home=%{x}<br>2018_AVG_road=%{y}<extra></extra>",
         "legendgroup": "Colorado",
         "marker": {
          "color": "#FF97FF",
          "symbol": "circle"
         },
         "mode": "markers",
         "name": "Colorado",
         "orientation": "v",
         "showlegend": true,
         "type": "scatter",
         "x": [
          37233
         ],
         "xaxis": "x",
         "y": [
          31607
         ],
         "yaxis": "y"
        },
        {
         "hovertemplate": "TEAM=Detroit<br>2018_AVG_home=%{x}<br>2018_AVG_road=%{y}<extra></extra>",
         "legendgroup": "Detroit",
         "marker": {
          "color": "#FECB52",
          "symbol": "circle"
         },
         "mode": "markers",
         "name": "Detroit",
         "orientation": "v",
         "showlegend": true,
         "type": "scatter",
         "x": [
          23212
         ],
         "xaxis": "x",
         "y": [
          26157
         ],
         "yaxis": "y"
        },
        {
         "hovertemplate": "TEAM=Houston<br>2018_AVG_home=%{x}<br>2018_AVG_road=%{y}<extra></extra>",
         "legendgroup": "Houston",
         "marker": {
          "color": "#636efa",
          "symbol": "circle"
         },
         "mode": "markers",
         "name": "Houston",
         "orientation": "v",
         "showlegend": true,
         "type": "scatter",
         "x": [
          36796
         ],
         "xaxis": "x",
         "y": [
          28842
         ],
         "yaxis": "y"
        },
        {
         "hovertemplate": "TEAM=Kansas City<br>2018_AVG_home=%{x}<br>2018_AVG_road=%{y}<extra></extra>",
         "legendgroup": "Kansas City",
         "marker": {
          "color": "#EF553B",
          "symbol": "circle"
         },
         "mode": "markers",
         "name": "Kansas City",
         "orientation": "v",
         "showlegend": true,
         "type": "scatter",
         "x": [
          20556
         ],
         "xaxis": "x",
         "y": [
          24262
         ],
         "yaxis": "y"
        },
        {
         "hovertemplate": "TEAM=LA Angels<br>2018_AVG_home=%{x}<br>2018_AVG_road=%{y}<extra></extra>",
         "legendgroup": "LA Angels",
         "marker": {
          "color": "#00cc96",
          "symbol": "circle"
         },
         "mode": "markers",
         "name": "LA Angels",
         "orientation": "v",
         "showlegend": true,
         "type": "scatter",
         "x": [
          37286
         ],
         "xaxis": "x",
         "y": [
          28034
         ],
         "yaxis": "y"
        },
        {
         "hovertemplate": "TEAM=LA Dodgers<br>2018_AVG_home=%{x}<br>2018_AVG_road=%{y}<extra></extra>",
         "legendgroup": "LA Dodgers",
         "marker": {
          "color": "#ab63fa",
          "symbol": "circle"
         },
         "mode": "markers",
         "name": "LA Dodgers",
         "orientation": "v",
         "showlegend": true,
         "type": "scatter",
         "x": [
          47042
         ],
         "xaxis": "x",
         "y": [
          33239
         ],
         "yaxis": "y"
        },
        {
         "hovertemplate": "TEAM=Miami<br>2018_AVG_home=%{x}<br>2018_AVG_road=%{y}<extra></extra>",
         "legendgroup": "Miami",
         "marker": {
          "color": "#FFA15A",
          "symbol": "circle"
         },
         "mode": "markers",
         "name": "Miami",
         "orientation": "v",
         "showlegend": true,
         "type": "scatter",
         "x": [
          10013
         ],
         "xaxis": "x",
         "y": [
          28917
         ],
         "yaxis": "y"
        },
        {
         "hovertemplate": "TEAM=Milwaukee<br>2018_AVG_home=%{x}<br>2018_AVG_road=%{y}<extra></extra>",
         "legendgroup": "Milwaukee",
         "marker": {
          "color": "#19d3f3",
          "symbol": "circle"
         },
         "mode": "markers",
         "name": "Milwaukee",
         "orientation": "v",
         "showlegend": true,
         "type": "scatter",
         "x": [
          35195
         ],
         "xaxis": "x",
         "y": [
          29000
         ],
         "yaxis": "y"
        },
        {
         "hovertemplate": "TEAM=Minnesota<br>2018_AVG_home=%{x}<br>2018_AVG_road=%{y}<extra></extra>",
         "legendgroup": "Minnesota",
         "marker": {
          "color": "#FF6692",
          "symbol": "circle"
         },
         "mode": "markers",
         "name": "Minnesota",
         "orientation": "v",
         "showlegend": true,
         "type": "scatter",
         "x": [
          24489
         ],
         "xaxis": "x",
         "y": [
          27017
         ],
         "yaxis": "y"
        },
        {
         "hovertemplate": "TEAM=NY Mets<br>2018_AVG_home=%{x}<br>2018_AVG_road=%{y}<extra></extra>",
         "legendgroup": "NY Mets",
         "marker": {
          "color": "#B6E880",
          "symbol": "circle"
         },
         "mode": "markers",
         "name": "NY Mets",
         "orientation": "v",
         "showlegend": true,
         "type": "scatter",
         "x": [
          28164
         ],
         "xaxis": "x",
         "y": [
          29795
         ],
         "yaxis": "y"
        },
        {
         "hovertemplate": "TEAM=NY Yankees<br>2018_AVG_home=%{x}<br>2018_AVG_road=%{y}<extra></extra>",
         "legendgroup": "NY Yankees",
         "marker": {
          "color": "#FF97FF",
          "symbol": "circle"
         },
         "mode": "markers",
         "name": "NY Yankees",
         "orientation": "v",
         "showlegend": true,
         "type": "scatter",
         "x": [
          42998
         ],
         "xaxis": "x",
         "y": [
          30685
         ],
         "yaxis": "y"
        },
        {
         "hovertemplate": "TEAM=Oakland<br>2018_AVG_home=%{x}<br>2018_AVG_road=%{y}<extra></extra>",
         "legendgroup": "Oakland",
         "marker": {
          "color": "#FECB52",
          "symbol": "circle"
         },
         "mode": "markers",
         "name": "Oakland",
         "orientation": "v",
         "showlegend": true,
         "type": "scatter",
         "x": [
          19427
         ],
         "xaxis": "x",
         "y": [
          28748
         ],
         "yaxis": "y"
        },
        {
         "hovertemplate": "TEAM=Philadelphia<br>2018_AVG_home=%{x}<br>2018_AVG_road=%{y}<extra></extra>",
         "legendgroup": "Philadelphia",
         "marker": {
          "color": "#636efa",
          "symbol": "circle"
         },
         "mode": "markers",
         "name": "Philadelphia",
         "orientation": "v",
         "showlegend": true,
         "type": "scatter",
         "x": [
          27318
         ],
         "xaxis": "x",
         "y": [
          28381
         ],
         "yaxis": "y"
        },
        {
         "hovertemplate": "TEAM=Pittsburgh<br>2018_AVG_home=%{x}<br>2018_AVG_road=%{y}<extra></extra>",
         "legendgroup": "Pittsburgh",
         "marker": {
          "color": "#EF553B",
          "symbol": "circle"
         },
         "mode": "markers",
         "name": "Pittsburgh",
         "orientation": "v",
         "showlegend": true,
         "type": "scatter",
         "x": [
          18786
         ],
         "xaxis": "x",
         "y": [
          31288
         ],
         "yaxis": "y"
        },
        {
         "hovertemplate": "TEAM=San Diego<br>2018_AVG_home=%{x}<br>2018_AVG_road=%{y}<extra></extra>",
         "legendgroup": "San Diego",
         "marker": {
          "color": "#00cc96",
          "symbol": "circle"
         },
         "mode": "markers",
         "name": "San Diego",
         "orientation": "v",
         "showlegend": true,
         "type": "scatter",
         "x": [
          26837
         ],
         "xaxis": "x",
         "y": [
          30730
         ],
         "yaxis": "y"
        },
        {
         "hovertemplate": "TEAM=San Francisco<br>2018_AVG_home=%{x}<br>2018_AVG_road=%{y}<extra></extra>",
         "legendgroup": "San Francisco",
         "marker": {
          "color": "#ab63fa",
          "symbol": "circle"
         },
         "mode": "markers",
         "name": "San Francisco",
         "orientation": "v",
         "showlegend": true,
         "type": "scatter",
         "x": [
          38965
         ],
         "xaxis": "x",
         "y": [
          33915
         ],
         "yaxis": "y"
        },
        {
         "hovertemplate": "TEAM=Seattle<br>2018_AVG_home=%{x}<br>2018_AVG_road=%{y}<extra></extra>",
         "legendgroup": "Seattle",
         "marker": {
          "color": "#FFA15A",
          "symbol": "circle"
         },
         "mode": "markers",
         "name": "Seattle",
         "orientation": "v",
         "showlegend": true,
         "type": "scatter",
         "x": [
          28388
         ],
         "xaxis": "x",
         "y": [
          27174
         ],
         "yaxis": "y"
        },
        {
         "hovertemplate": "TEAM=St. Louis<br>2018_AVG_home=%{x}<br>2018_AVG_road=%{y}<extra></extra>",
         "legendgroup": "St. Louis",
         "marker": {
          "color": "#19d3f3",
          "symbol": "circle"
         },
         "mode": "markers",
         "name": "St. Louis",
         "orientation": "v",
         "showlegend": true,
         "type": "scatter",
         "x": [
          42019
         ],
         "xaxis": "x",
         "y": [
          29274
         ],
         "yaxis": "y"
        },
        {
         "hovertemplate": "TEAM=Tampa Bay<br>2018_AVG_home=%{x}<br>2018_AVG_road=%{y}<extra></extra>",
         "legendgroup": "Tampa Bay",
         "marker": {
          "color": "#FF6692",
          "symbol": "circle"
         },
         "mode": "markers",
         "name": "Tampa Bay",
         "orientation": "v",
         "showlegend": true,
         "type": "scatter",
         "x": [
          14258
         ],
         "xaxis": "x",
         "y": [
          26381
         ],
         "yaxis": "y"
        },
        {
         "hovertemplate": "TEAM=Texas<br>2018_AVG_home=%{x}<br>2018_AVG_road=%{y}<extra></extra>",
         "legendgroup": "Texas",
         "marker": {
          "color": "#B6E880",
          "symbol": "circle"
         },
         "mode": "markers",
         "name": "Texas",
         "orientation": "v",
         "showlegend": true,
         "type": "scatter",
         "x": [
          26013
         ],
         "xaxis": "x",
         "y": [
          26470
         ],
         "yaxis": "y"
        },
        {
         "hovertemplate": "TEAM=Toronto<br>2018_AVG_home=%{x}<br>2018_AVG_road=%{y}<extra></extra>",
         "legendgroup": "Toronto",
         "marker": {
          "color": "#FF97FF",
          "symbol": "circle"
         },
         "mode": "markers",
         "name": "Toronto",
         "orientation": "v",
         "showlegend": true,
         "type": "scatter",
         "x": [
          29066
         ],
         "xaxis": "x",
         "y": [
          25152
         ],
         "yaxis": "y"
        },
        {
         "hovertemplate": "TEAM=Washington<br>2018_AVG_home=%{x}<br>2018_AVG_road=%{y}<extra></extra>",
         "legendgroup": "Washington",
         "marker": {
          "color": "#FECB52",
          "symbol": "circle"
         },
         "mode": "markers",
         "name": "Washington",
         "orientation": "v",
         "showlegend": true,
         "type": "scatter",
         "x": [
          31620
         ],
         "xaxis": "x",
         "y": [
          28102
         ],
         "yaxis": "y"
        }
       ],
       "layout": {
        "legend": {
         "title": {
          "text": "TEAM"
         },
         "tracegroupgap": 0
        },
        "template": {
         "data": {
          "bar": [
           {
            "error_x": {
             "color": "#2a3f5f"
            },
            "error_y": {
             "color": "#2a3f5f"
            },
            "marker": {
             "line": {
              "color": "#E5ECF6",
              "width": 0.5
             },
             "pattern": {
              "fillmode": "overlay",
              "size": 10,
              "solidity": 0.2
             }
            },
            "type": "bar"
           }
          ],
          "barpolar": [
           {
            "marker": {
             "line": {
              "color": "#E5ECF6",
              "width": 0.5
             },
             "pattern": {
              "fillmode": "overlay",
              "size": 10,
              "solidity": 0.2
             }
            },
            "type": "barpolar"
           }
          ],
          "carpet": [
           {
            "aaxis": {
             "endlinecolor": "#2a3f5f",
             "gridcolor": "white",
             "linecolor": "white",
             "minorgridcolor": "white",
             "startlinecolor": "#2a3f5f"
            },
            "baxis": {
             "endlinecolor": "#2a3f5f",
             "gridcolor": "white",
             "linecolor": "white",
             "minorgridcolor": "white",
             "startlinecolor": "#2a3f5f"
            },
            "type": "carpet"
           }
          ],
          "choropleth": [
           {
            "colorbar": {
             "outlinewidth": 0,
             "ticks": ""
            },
            "type": "choropleth"
           }
          ],
          "contour": [
           {
            "colorbar": {
             "outlinewidth": 0,
             "ticks": ""
            },
            "colorscale": [
             [
              0,
              "#0d0887"
             ],
             [
              0.1111111111111111,
              "#46039f"
             ],
             [
              0.2222222222222222,
              "#7201a8"
             ],
             [
              0.3333333333333333,
              "#9c179e"
             ],
             [
              0.4444444444444444,
              "#bd3786"
             ],
             [
              0.5555555555555556,
              "#d8576b"
             ],
             [
              0.6666666666666666,
              "#ed7953"
             ],
             [
              0.7777777777777778,
              "#fb9f3a"
             ],
             [
              0.8888888888888888,
              "#fdca26"
             ],
             [
              1,
              "#f0f921"
             ]
            ],
            "type": "contour"
           }
          ],
          "contourcarpet": [
           {
            "colorbar": {
             "outlinewidth": 0,
             "ticks": ""
            },
            "type": "contourcarpet"
           }
          ],
          "heatmap": [
           {
            "colorbar": {
             "outlinewidth": 0,
             "ticks": ""
            },
            "colorscale": [
             [
              0,
              "#0d0887"
             ],
             [
              0.1111111111111111,
              "#46039f"
             ],
             [
              0.2222222222222222,
              "#7201a8"
             ],
             [
              0.3333333333333333,
              "#9c179e"
             ],
             [
              0.4444444444444444,
              "#bd3786"
             ],
             [
              0.5555555555555556,
              "#d8576b"
             ],
             [
              0.6666666666666666,
              "#ed7953"
             ],
             [
              0.7777777777777778,
              "#fb9f3a"
             ],
             [
              0.8888888888888888,
              "#fdca26"
             ],
             [
              1,
              "#f0f921"
             ]
            ],
            "type": "heatmap"
           }
          ],
          "heatmapgl": [
           {
            "colorbar": {
             "outlinewidth": 0,
             "ticks": ""
            },
            "colorscale": [
             [
              0,
              "#0d0887"
             ],
             [
              0.1111111111111111,
              "#46039f"
             ],
             [
              0.2222222222222222,
              "#7201a8"
             ],
             [
              0.3333333333333333,
              "#9c179e"
             ],
             [
              0.4444444444444444,
              "#bd3786"
             ],
             [
              0.5555555555555556,
              "#d8576b"
             ],
             [
              0.6666666666666666,
              "#ed7953"
             ],
             [
              0.7777777777777778,
              "#fb9f3a"
             ],
             [
              0.8888888888888888,
              "#fdca26"
             ],
             [
              1,
              "#f0f921"
             ]
            ],
            "type": "heatmapgl"
           }
          ],
          "histogram": [
           {
            "marker": {
             "pattern": {
              "fillmode": "overlay",
              "size": 10,
              "solidity": 0.2
             }
            },
            "type": "histogram"
           }
          ],
          "histogram2d": [
           {
            "colorbar": {
             "outlinewidth": 0,
             "ticks": ""
            },
            "colorscale": [
             [
              0,
              "#0d0887"
             ],
             [
              0.1111111111111111,
              "#46039f"
             ],
             [
              0.2222222222222222,
              "#7201a8"
             ],
             [
              0.3333333333333333,
              "#9c179e"
             ],
             [
              0.4444444444444444,
              "#bd3786"
             ],
             [
              0.5555555555555556,
              "#d8576b"
             ],
             [
              0.6666666666666666,
              "#ed7953"
             ],
             [
              0.7777777777777778,
              "#fb9f3a"
             ],
             [
              0.8888888888888888,
              "#fdca26"
             ],
             [
              1,
              "#f0f921"
             ]
            ],
            "type": "histogram2d"
           }
          ],
          "histogram2dcontour": [
           {
            "colorbar": {
             "outlinewidth": 0,
             "ticks": ""
            },
            "colorscale": [
             [
              0,
              "#0d0887"
             ],
             [
              0.1111111111111111,
              "#46039f"
             ],
             [
              0.2222222222222222,
              "#7201a8"
             ],
             [
              0.3333333333333333,
              "#9c179e"
             ],
             [
              0.4444444444444444,
              "#bd3786"
             ],
             [
              0.5555555555555556,
              "#d8576b"
             ],
             [
              0.6666666666666666,
              "#ed7953"
             ],
             [
              0.7777777777777778,
              "#fb9f3a"
             ],
             [
              0.8888888888888888,
              "#fdca26"
             ],
             [
              1,
              "#f0f921"
             ]
            ],
            "type": "histogram2dcontour"
           }
          ],
          "mesh3d": [
           {
            "colorbar": {
             "outlinewidth": 0,
             "ticks": ""
            },
            "type": "mesh3d"
           }
          ],
          "parcoords": [
           {
            "line": {
             "colorbar": {
              "outlinewidth": 0,
              "ticks": ""
             }
            },
            "type": "parcoords"
           }
          ],
          "pie": [
           {
            "automargin": true,
            "type": "pie"
           }
          ],
          "scatter": [
           {
            "marker": {
             "colorbar": {
              "outlinewidth": 0,
              "ticks": ""
             }
            },
            "type": "scatter"
           }
          ],
          "scatter3d": [
           {
            "line": {
             "colorbar": {
              "outlinewidth": 0,
              "ticks": ""
             }
            },
            "marker": {
             "colorbar": {
              "outlinewidth": 0,
              "ticks": ""
             }
            },
            "type": "scatter3d"
           }
          ],
          "scattercarpet": [
           {
            "marker": {
             "colorbar": {
              "outlinewidth": 0,
              "ticks": ""
             }
            },
            "type": "scattercarpet"
           }
          ],
          "scattergeo": [
           {
            "marker": {
             "colorbar": {
              "outlinewidth": 0,
              "ticks": ""
             }
            },
            "type": "scattergeo"
           }
          ],
          "scattergl": [
           {
            "marker": {
             "colorbar": {
              "outlinewidth": 0,
              "ticks": ""
             }
            },
            "type": "scattergl"
           }
          ],
          "scattermapbox": [
           {
            "marker": {
             "colorbar": {
              "outlinewidth": 0,
              "ticks": ""
             }
            },
            "type": "scattermapbox"
           }
          ],
          "scatterpolar": [
           {
            "marker": {
             "colorbar": {
              "outlinewidth": 0,
              "ticks": ""
             }
            },
            "type": "scatterpolar"
           }
          ],
          "scatterpolargl": [
           {
            "marker": {
             "colorbar": {
              "outlinewidth": 0,
              "ticks": ""
             }
            },
            "type": "scatterpolargl"
           }
          ],
          "scatterternary": [
           {
            "marker": {
             "colorbar": {
              "outlinewidth": 0,
              "ticks": ""
             }
            },
            "type": "scatterternary"
           }
          ],
          "surface": [
           {
            "colorbar": {
             "outlinewidth": 0,
             "ticks": ""
            },
            "colorscale": [
             [
              0,
              "#0d0887"
             ],
             [
              0.1111111111111111,
              "#46039f"
             ],
             [
              0.2222222222222222,
              "#7201a8"
             ],
             [
              0.3333333333333333,
              "#9c179e"
             ],
             [
              0.4444444444444444,
              "#bd3786"
             ],
             [
              0.5555555555555556,
              "#d8576b"
             ],
             [
              0.6666666666666666,
              "#ed7953"
             ],
             [
              0.7777777777777778,
              "#fb9f3a"
             ],
             [
              0.8888888888888888,
              "#fdca26"
             ],
             [
              1,
              "#f0f921"
             ]
            ],
            "type": "surface"
           }
          ],
          "table": [
           {
            "cells": {
             "fill": {
              "color": "#EBF0F8"
             },
             "line": {
              "color": "white"
             }
            },
            "header": {
             "fill": {
              "color": "#C8D4E3"
             },
             "line": {
              "color": "white"
             }
            },
            "type": "table"
           }
          ]
         },
         "layout": {
          "annotationdefaults": {
           "arrowcolor": "#2a3f5f",
           "arrowhead": 0,
           "arrowwidth": 1
          },
          "autotypenumbers": "strict",
          "coloraxis": {
           "colorbar": {
            "outlinewidth": 0,
            "ticks": ""
           }
          },
          "colorscale": {
           "diverging": [
            [
             0,
             "#8e0152"
            ],
            [
             0.1,
             "#c51b7d"
            ],
            [
             0.2,
             "#de77ae"
            ],
            [
             0.3,
             "#f1b6da"
            ],
            [
             0.4,
             "#fde0ef"
            ],
            [
             0.5,
             "#f7f7f7"
            ],
            [
             0.6,
             "#e6f5d0"
            ],
            [
             0.7,
             "#b8e186"
            ],
            [
             0.8,
             "#7fbc41"
            ],
            [
             0.9,
             "#4d9221"
            ],
            [
             1,
             "#276419"
            ]
           ],
           "sequential": [
            [
             0,
             "#0d0887"
            ],
            [
             0.1111111111111111,
             "#46039f"
            ],
            [
             0.2222222222222222,
             "#7201a8"
            ],
            [
             0.3333333333333333,
             "#9c179e"
            ],
            [
             0.4444444444444444,
             "#bd3786"
            ],
            [
             0.5555555555555556,
             "#d8576b"
            ],
            [
             0.6666666666666666,
             "#ed7953"
            ],
            [
             0.7777777777777778,
             "#fb9f3a"
            ],
            [
             0.8888888888888888,
             "#fdca26"
            ],
            [
             1,
             "#f0f921"
            ]
           ],
           "sequentialminus": [
            [
             0,
             "#0d0887"
            ],
            [
             0.1111111111111111,
             "#46039f"
            ],
            [
             0.2222222222222222,
             "#7201a8"
            ],
            [
             0.3333333333333333,
             "#9c179e"
            ],
            [
             0.4444444444444444,
             "#bd3786"
            ],
            [
             0.5555555555555556,
             "#d8576b"
            ],
            [
             0.6666666666666666,
             "#ed7953"
            ],
            [
             0.7777777777777778,
             "#fb9f3a"
            ],
            [
             0.8888888888888888,
             "#fdca26"
            ],
            [
             1,
             "#f0f921"
            ]
           ]
          },
          "colorway": [
           "#636efa",
           "#EF553B",
           "#00cc96",
           "#ab63fa",
           "#FFA15A",
           "#19d3f3",
           "#FF6692",
           "#B6E880",
           "#FF97FF",
           "#FECB52"
          ],
          "font": {
           "color": "#2a3f5f"
          },
          "geo": {
           "bgcolor": "white",
           "lakecolor": "white",
           "landcolor": "#E5ECF6",
           "showlakes": true,
           "showland": true,
           "subunitcolor": "white"
          },
          "hoverlabel": {
           "align": "left"
          },
          "hovermode": "closest",
          "mapbox": {
           "style": "light"
          },
          "paper_bgcolor": "white",
          "plot_bgcolor": "#E5ECF6",
          "polar": {
           "angularaxis": {
            "gridcolor": "white",
            "linecolor": "white",
            "ticks": ""
           },
           "bgcolor": "#E5ECF6",
           "radialaxis": {
            "gridcolor": "white",
            "linecolor": "white",
            "ticks": ""
           }
          },
          "scene": {
           "xaxis": {
            "backgroundcolor": "#E5ECF6",
            "gridcolor": "white",
            "gridwidth": 2,
            "linecolor": "white",
            "showbackground": true,
            "ticks": "",
            "zerolinecolor": "white"
           },
           "yaxis": {
            "backgroundcolor": "#E5ECF6",
            "gridcolor": "white",
            "gridwidth": 2,
            "linecolor": "white",
            "showbackground": true,
            "ticks": "",
            "zerolinecolor": "white"
           },
           "zaxis": {
            "backgroundcolor": "#E5ECF6",
            "gridcolor": "white",
            "gridwidth": 2,
            "linecolor": "white",
            "showbackground": true,
            "ticks": "",
            "zerolinecolor": "white"
           }
          },
          "shapedefaults": {
           "line": {
            "color": "#2a3f5f"
           }
          },
          "ternary": {
           "aaxis": {
            "gridcolor": "white",
            "linecolor": "white",
            "ticks": ""
           },
           "baxis": {
            "gridcolor": "white",
            "linecolor": "white",
            "ticks": ""
           },
           "bgcolor": "#E5ECF6",
           "caxis": {
            "gridcolor": "white",
            "linecolor": "white",
            "ticks": ""
           }
          },
          "title": {
           "x": 0.05
          },
          "xaxis": {
           "automargin": true,
           "gridcolor": "white",
           "linecolor": "white",
           "ticks": "",
           "title": {
            "standoff": 15
           },
           "zerolinecolor": "white",
           "zerolinewidth": 2
          },
          "yaxis": {
           "automargin": true,
           "gridcolor": "white",
           "linecolor": "white",
           "ticks": "",
           "title": {
            "standoff": 15
           },
           "zerolinecolor": "white",
           "zerolinewidth": 2
          }
         }
        },
        "title": {
         "text": "2018"
        },
        "xaxis": {
         "anchor": "y",
         "domain": [
          0,
          1
         ],
         "title": {
          "text": "2018_AVG_home"
         }
        },
        "yaxis": {
         "anchor": "x",
         "domain": [
          0,
          1
         ],
         "title": {
          "text": "2018_AVG_road"
         }
        }
       }
      },
      "text/html": [
       "<div>                            <div id=\"7bb59bb5-d923-4ac9-a9d4-2b03b97a48f8\" class=\"plotly-graph-div\" style=\"height:525px; width:100%;\"></div>            <script type=\"text/javascript\">                require([\"plotly\"], function(Plotly) {                    window.PLOTLYENV=window.PLOTLYENV || {};                                    if (document.getElementById(\"7bb59bb5-d923-4ac9-a9d4-2b03b97a48f8\")) {                    Plotly.newPlot(                        \"7bb59bb5-d923-4ac9-a9d4-2b03b97a48f8\",                        [{\"hovertemplate\":\"TEAM=Arizona<br>2018_AVG_home=%{x}<br>2018_AVG_road=%{y}<extra></extra>\",\"legendgroup\":\"Arizona\",\"marker\":{\"color\":\"#636efa\",\"symbol\":\"circle\"},\"mode\":\"markers\",\"name\":\"Arizona\",\"orientation\":\"v\",\"showlegend\":true,\"x\":[27687],\"xaxis\":\"x\",\"y\":[31832],\"yaxis\":\"y\",\"type\":\"scatter\"},{\"hovertemplate\":\"TEAM=Atlanta<br>2018_AVG_home=%{x}<br>2018_AVG_road=%{y}<extra></extra>\",\"legendgroup\":\"Atlanta\",\"marker\":{\"color\":\"#EF553B\",\"symbol\":\"circle\"},\"mode\":\"markers\",\"name\":\"Atlanta\",\"orientation\":\"v\",\"showlegend\":true,\"x\":[31552],\"xaxis\":\"x\",\"y\":[27826],\"yaxis\":\"y\",\"type\":\"scatter\"},{\"hovertemplate\":\"TEAM=Baltimore<br>2018_AVG_home=%{x}<br>2018_AVG_road=%{y}<extra></extra>\",\"legendgroup\":\"Baltimore\",\"marker\":{\"color\":\"#00cc96\",\"symbol\":\"circle\"},\"mode\":\"markers\",\"name\":\"Baltimore\",\"orientation\":\"v\",\"showlegend\":true,\"x\":[20053],\"xaxis\":\"x\",\"y\":[27204],\"yaxis\":\"y\",\"type\":\"scatter\"},{\"hovertemplate\":\"TEAM=Boston<br>2018_AVG_home=%{x}<br>2018_AVG_road=%{y}<extra></extra>\",\"legendgroup\":\"Boston\",\"marker\":{\"color\":\"#ab63fa\",\"symbol\":\"circle\"},\"mode\":\"markers\",\"name\":\"Boston\",\"orientation\":\"v\",\"showlegend\":true,\"x\":[35747],\"xaxis\":\"x\",\"y\":[29992],\"yaxis\":\"y\",\"type\":\"scatter\"},{\"hovertemplate\":\"TEAM=Chicago Cubs<br>2018_AVG_home=%{x}<br>2018_AVG_road=%{y}<extra></extra>\",\"legendgroup\":\"Chicago Cubs\",\"marker\":{\"color\":\"#FFA15A\",\"symbol\":\"circle\"},\"mode\":\"markers\",\"name\":\"Chicago Cubs\",\"orientation\":\"v\",\"showlegend\":true,\"x\":[38793],\"xaxis\":\"x\",\"y\":[32800],\"yaxis\":\"y\",\"type\":\"scatter\"},{\"hovertemplate\":\"TEAM=Chicago White Sox<br>2018_AVG_home=%{x}<br>2018_AVG_road=%{y}<extra></extra>\",\"legendgroup\":\"Chicago White Sox\",\"marker\":{\"color\":\"#19d3f3\",\"symbol\":\"circle\"},\"mode\":\"markers\",\"name\":\"Chicago White Sox\",\"orientation\":\"v\",\"showlegend\":true,\"x\":[20110],\"xaxis\":\"x\",\"y\":[26240],\"yaxis\":\"y\",\"type\":\"scatter\"},{\"hovertemplate\":\"TEAM=Cincinnati<br>2018_AVG_home=%{x}<br>2018_AVG_road=%{y}<extra></extra>\",\"legendgroup\":\"Cincinnati\",\"marker\":{\"color\":\"#FF6692\",\"symbol\":\"circle\"},\"mode\":\"markers\",\"name\":\"Cincinnati\",\"orientation\":\"v\",\"showlegend\":true,\"x\":[20115],\"xaxis\":\"x\",\"y\":[29918],\"yaxis\":\"y\",\"type\":\"scatter\"},{\"hovertemplate\":\"TEAM=Cleveland<br>2018_AVG_home=%{x}<br>2018_AVG_road=%{y}<extra></extra>\",\"legendgroup\":\"Cleveland\",\"marker\":{\"color\":\"#B6E880\",\"symbol\":\"circle\"},\"mode\":\"markers\",\"name\":\"Cleveland\",\"orientation\":\"v\",\"showlegend\":true,\"x\":[24083],\"xaxis\":\"x\",\"y\":[26088],\"yaxis\":\"y\",\"type\":\"scatter\"},{\"hovertemplate\":\"TEAM=Colorado<br>2018_AVG_home=%{x}<br>2018_AVG_road=%{y}<extra></extra>\",\"legendgroup\":\"Colorado\",\"marker\":{\"color\":\"#FF97FF\",\"symbol\":\"circle\"},\"mode\":\"markers\",\"name\":\"Colorado\",\"orientation\":\"v\",\"showlegend\":true,\"x\":[37233],\"xaxis\":\"x\",\"y\":[31607],\"yaxis\":\"y\",\"type\":\"scatter\"},{\"hovertemplate\":\"TEAM=Detroit<br>2018_AVG_home=%{x}<br>2018_AVG_road=%{y}<extra></extra>\",\"legendgroup\":\"Detroit\",\"marker\":{\"color\":\"#FECB52\",\"symbol\":\"circle\"},\"mode\":\"markers\",\"name\":\"Detroit\",\"orientation\":\"v\",\"showlegend\":true,\"x\":[23212],\"xaxis\":\"x\",\"y\":[26157],\"yaxis\":\"y\",\"type\":\"scatter\"},{\"hovertemplate\":\"TEAM=Houston<br>2018_AVG_home=%{x}<br>2018_AVG_road=%{y}<extra></extra>\",\"legendgroup\":\"Houston\",\"marker\":{\"color\":\"#636efa\",\"symbol\":\"circle\"},\"mode\":\"markers\",\"name\":\"Houston\",\"orientation\":\"v\",\"showlegend\":true,\"x\":[36796],\"xaxis\":\"x\",\"y\":[28842],\"yaxis\":\"y\",\"type\":\"scatter\"},{\"hovertemplate\":\"TEAM=Kansas City<br>2018_AVG_home=%{x}<br>2018_AVG_road=%{y}<extra></extra>\",\"legendgroup\":\"Kansas City\",\"marker\":{\"color\":\"#EF553B\",\"symbol\":\"circle\"},\"mode\":\"markers\",\"name\":\"Kansas City\",\"orientation\":\"v\",\"showlegend\":true,\"x\":[20556],\"xaxis\":\"x\",\"y\":[24262],\"yaxis\":\"y\",\"type\":\"scatter\"},{\"hovertemplate\":\"TEAM=LA Angels<br>2018_AVG_home=%{x}<br>2018_AVG_road=%{y}<extra></extra>\",\"legendgroup\":\"LA Angels\",\"marker\":{\"color\":\"#00cc96\",\"symbol\":\"circle\"},\"mode\":\"markers\",\"name\":\"LA Angels\",\"orientation\":\"v\",\"showlegend\":true,\"x\":[37286],\"xaxis\":\"x\",\"y\":[28034],\"yaxis\":\"y\",\"type\":\"scatter\"},{\"hovertemplate\":\"TEAM=LA Dodgers<br>2018_AVG_home=%{x}<br>2018_AVG_road=%{y}<extra></extra>\",\"legendgroup\":\"LA Dodgers\",\"marker\":{\"color\":\"#ab63fa\",\"symbol\":\"circle\"},\"mode\":\"markers\",\"name\":\"LA Dodgers\",\"orientation\":\"v\",\"showlegend\":true,\"x\":[47042],\"xaxis\":\"x\",\"y\":[33239],\"yaxis\":\"y\",\"type\":\"scatter\"},{\"hovertemplate\":\"TEAM=Miami<br>2018_AVG_home=%{x}<br>2018_AVG_road=%{y}<extra></extra>\",\"legendgroup\":\"Miami\",\"marker\":{\"color\":\"#FFA15A\",\"symbol\":\"circle\"},\"mode\":\"markers\",\"name\":\"Miami\",\"orientation\":\"v\",\"showlegend\":true,\"x\":[10013],\"xaxis\":\"x\",\"y\":[28917],\"yaxis\":\"y\",\"type\":\"scatter\"},{\"hovertemplate\":\"TEAM=Milwaukee<br>2018_AVG_home=%{x}<br>2018_AVG_road=%{y}<extra></extra>\",\"legendgroup\":\"Milwaukee\",\"marker\":{\"color\":\"#19d3f3\",\"symbol\":\"circle\"},\"mode\":\"markers\",\"name\":\"Milwaukee\",\"orientation\":\"v\",\"showlegend\":true,\"x\":[35195],\"xaxis\":\"x\",\"y\":[29000],\"yaxis\":\"y\",\"type\":\"scatter\"},{\"hovertemplate\":\"TEAM=Minnesota<br>2018_AVG_home=%{x}<br>2018_AVG_road=%{y}<extra></extra>\",\"legendgroup\":\"Minnesota\",\"marker\":{\"color\":\"#FF6692\",\"symbol\":\"circle\"},\"mode\":\"markers\",\"name\":\"Minnesota\",\"orientation\":\"v\",\"showlegend\":true,\"x\":[24489],\"xaxis\":\"x\",\"y\":[27017],\"yaxis\":\"y\",\"type\":\"scatter\"},{\"hovertemplate\":\"TEAM=NY Mets<br>2018_AVG_home=%{x}<br>2018_AVG_road=%{y}<extra></extra>\",\"legendgroup\":\"NY Mets\",\"marker\":{\"color\":\"#B6E880\",\"symbol\":\"circle\"},\"mode\":\"markers\",\"name\":\"NY Mets\",\"orientation\":\"v\",\"showlegend\":true,\"x\":[28164],\"xaxis\":\"x\",\"y\":[29795],\"yaxis\":\"y\",\"type\":\"scatter\"},{\"hovertemplate\":\"TEAM=NY Yankees<br>2018_AVG_home=%{x}<br>2018_AVG_road=%{y}<extra></extra>\",\"legendgroup\":\"NY Yankees\",\"marker\":{\"color\":\"#FF97FF\",\"symbol\":\"circle\"},\"mode\":\"markers\",\"name\":\"NY Yankees\",\"orientation\":\"v\",\"showlegend\":true,\"x\":[42998],\"xaxis\":\"x\",\"y\":[30685],\"yaxis\":\"y\",\"type\":\"scatter\"},{\"hovertemplate\":\"TEAM=Oakland<br>2018_AVG_home=%{x}<br>2018_AVG_road=%{y}<extra></extra>\",\"legendgroup\":\"Oakland\",\"marker\":{\"color\":\"#FECB52\",\"symbol\":\"circle\"},\"mode\":\"markers\",\"name\":\"Oakland\",\"orientation\":\"v\",\"showlegend\":true,\"x\":[19427],\"xaxis\":\"x\",\"y\":[28748],\"yaxis\":\"y\",\"type\":\"scatter\"},{\"hovertemplate\":\"TEAM=Philadelphia<br>2018_AVG_home=%{x}<br>2018_AVG_road=%{y}<extra></extra>\",\"legendgroup\":\"Philadelphia\",\"marker\":{\"color\":\"#636efa\",\"symbol\":\"circle\"},\"mode\":\"markers\",\"name\":\"Philadelphia\",\"orientation\":\"v\",\"showlegend\":true,\"x\":[27318],\"xaxis\":\"x\",\"y\":[28381],\"yaxis\":\"y\",\"type\":\"scatter\"},{\"hovertemplate\":\"TEAM=Pittsburgh<br>2018_AVG_home=%{x}<br>2018_AVG_road=%{y}<extra></extra>\",\"legendgroup\":\"Pittsburgh\",\"marker\":{\"color\":\"#EF553B\",\"symbol\":\"circle\"},\"mode\":\"markers\",\"name\":\"Pittsburgh\",\"orientation\":\"v\",\"showlegend\":true,\"x\":[18786],\"xaxis\":\"x\",\"y\":[31288],\"yaxis\":\"y\",\"type\":\"scatter\"},{\"hovertemplate\":\"TEAM=San Diego<br>2018_AVG_home=%{x}<br>2018_AVG_road=%{y}<extra></extra>\",\"legendgroup\":\"San Diego\",\"marker\":{\"color\":\"#00cc96\",\"symbol\":\"circle\"},\"mode\":\"markers\",\"name\":\"San Diego\",\"orientation\":\"v\",\"showlegend\":true,\"x\":[26837],\"xaxis\":\"x\",\"y\":[30730],\"yaxis\":\"y\",\"type\":\"scatter\"},{\"hovertemplate\":\"TEAM=San Francisco<br>2018_AVG_home=%{x}<br>2018_AVG_road=%{y}<extra></extra>\",\"legendgroup\":\"San Francisco\",\"marker\":{\"color\":\"#ab63fa\",\"symbol\":\"circle\"},\"mode\":\"markers\",\"name\":\"San Francisco\",\"orientation\":\"v\",\"showlegend\":true,\"x\":[38965],\"xaxis\":\"x\",\"y\":[33915],\"yaxis\":\"y\",\"type\":\"scatter\"},{\"hovertemplate\":\"TEAM=Seattle<br>2018_AVG_home=%{x}<br>2018_AVG_road=%{y}<extra></extra>\",\"legendgroup\":\"Seattle\",\"marker\":{\"color\":\"#FFA15A\",\"symbol\":\"circle\"},\"mode\":\"markers\",\"name\":\"Seattle\",\"orientation\":\"v\",\"showlegend\":true,\"x\":[28388],\"xaxis\":\"x\",\"y\":[27174],\"yaxis\":\"y\",\"type\":\"scatter\"},{\"hovertemplate\":\"TEAM=St. Louis<br>2018_AVG_home=%{x}<br>2018_AVG_road=%{y}<extra></extra>\",\"legendgroup\":\"St. Louis\",\"marker\":{\"color\":\"#19d3f3\",\"symbol\":\"circle\"},\"mode\":\"markers\",\"name\":\"St. Louis\",\"orientation\":\"v\",\"showlegend\":true,\"x\":[42019],\"xaxis\":\"x\",\"y\":[29274],\"yaxis\":\"y\",\"type\":\"scatter\"},{\"hovertemplate\":\"TEAM=Tampa Bay<br>2018_AVG_home=%{x}<br>2018_AVG_road=%{y}<extra></extra>\",\"legendgroup\":\"Tampa Bay\",\"marker\":{\"color\":\"#FF6692\",\"symbol\":\"circle\"},\"mode\":\"markers\",\"name\":\"Tampa Bay\",\"orientation\":\"v\",\"showlegend\":true,\"x\":[14258],\"xaxis\":\"x\",\"y\":[26381],\"yaxis\":\"y\",\"type\":\"scatter\"},{\"hovertemplate\":\"TEAM=Texas<br>2018_AVG_home=%{x}<br>2018_AVG_road=%{y}<extra></extra>\",\"legendgroup\":\"Texas\",\"marker\":{\"color\":\"#B6E880\",\"symbol\":\"circle\"},\"mode\":\"markers\",\"name\":\"Texas\",\"orientation\":\"v\",\"showlegend\":true,\"x\":[26013],\"xaxis\":\"x\",\"y\":[26470],\"yaxis\":\"y\",\"type\":\"scatter\"},{\"hovertemplate\":\"TEAM=Toronto<br>2018_AVG_home=%{x}<br>2018_AVG_road=%{y}<extra></extra>\",\"legendgroup\":\"Toronto\",\"marker\":{\"color\":\"#FF97FF\",\"symbol\":\"circle\"},\"mode\":\"markers\",\"name\":\"Toronto\",\"orientation\":\"v\",\"showlegend\":true,\"x\":[29066],\"xaxis\":\"x\",\"y\":[25152],\"yaxis\":\"y\",\"type\":\"scatter\"},{\"hovertemplate\":\"TEAM=Washington<br>2018_AVG_home=%{x}<br>2018_AVG_road=%{y}<extra></extra>\",\"legendgroup\":\"Washington\",\"marker\":{\"color\":\"#FECB52\",\"symbol\":\"circle\"},\"mode\":\"markers\",\"name\":\"Washington\",\"orientation\":\"v\",\"showlegend\":true,\"x\":[31620],\"xaxis\":\"x\",\"y\":[28102],\"yaxis\":\"y\",\"type\":\"scatter\"}],                        {\"template\":{\"data\":{\"bar\":[{\"error_x\":{\"color\":\"#2a3f5f\"},\"error_y\":{\"color\":\"#2a3f5f\"},\"marker\":{\"line\":{\"color\":\"#E5ECF6\",\"width\":0.5},\"pattern\":{\"fillmode\":\"overlay\",\"size\":10,\"solidity\":0.2}},\"type\":\"bar\"}],\"barpolar\":[{\"marker\":{\"line\":{\"color\":\"#E5ECF6\",\"width\":0.5},\"pattern\":{\"fillmode\":\"overlay\",\"size\":10,\"solidity\":0.2}},\"type\":\"barpolar\"}],\"carpet\":[{\"aaxis\":{\"endlinecolor\":\"#2a3f5f\",\"gridcolor\":\"white\",\"linecolor\":\"white\",\"minorgridcolor\":\"white\",\"startlinecolor\":\"#2a3f5f\"},\"baxis\":{\"endlinecolor\":\"#2a3f5f\",\"gridcolor\":\"white\",\"linecolor\":\"white\",\"minorgridcolor\":\"white\",\"startlinecolor\":\"#2a3f5f\"},\"type\":\"carpet\"}],\"choropleth\":[{\"colorbar\":{\"outlinewidth\":0,\"ticks\":\"\"},\"type\":\"choropleth\"}],\"contour\":[{\"colorbar\":{\"outlinewidth\":0,\"ticks\":\"\"},\"colorscale\":[[0.0,\"#0d0887\"],[0.1111111111111111,\"#46039f\"],[0.2222222222222222,\"#7201a8\"],[0.3333333333333333,\"#9c179e\"],[0.4444444444444444,\"#bd3786\"],[0.5555555555555556,\"#d8576b\"],[0.6666666666666666,\"#ed7953\"],[0.7777777777777778,\"#fb9f3a\"],[0.8888888888888888,\"#fdca26\"],[1.0,\"#f0f921\"]],\"type\":\"contour\"}],\"contourcarpet\":[{\"colorbar\":{\"outlinewidth\":0,\"ticks\":\"\"},\"type\":\"contourcarpet\"}],\"heatmap\":[{\"colorbar\":{\"outlinewidth\":0,\"ticks\":\"\"},\"colorscale\":[[0.0,\"#0d0887\"],[0.1111111111111111,\"#46039f\"],[0.2222222222222222,\"#7201a8\"],[0.3333333333333333,\"#9c179e\"],[0.4444444444444444,\"#bd3786\"],[0.5555555555555556,\"#d8576b\"],[0.6666666666666666,\"#ed7953\"],[0.7777777777777778,\"#fb9f3a\"],[0.8888888888888888,\"#fdca26\"],[1.0,\"#f0f921\"]],\"type\":\"heatmap\"}],\"heatmapgl\":[{\"colorbar\":{\"outlinewidth\":0,\"ticks\":\"\"},\"colorscale\":[[0.0,\"#0d0887\"],[0.1111111111111111,\"#46039f\"],[0.2222222222222222,\"#7201a8\"],[0.3333333333333333,\"#9c179e\"],[0.4444444444444444,\"#bd3786\"],[0.5555555555555556,\"#d8576b\"],[0.6666666666666666,\"#ed7953\"],[0.7777777777777778,\"#fb9f3a\"],[0.8888888888888888,\"#fdca26\"],[1.0,\"#f0f921\"]],\"type\":\"heatmapgl\"}],\"histogram\":[{\"marker\":{\"pattern\":{\"fillmode\":\"overlay\",\"size\":10,\"solidity\":0.2}},\"type\":\"histogram\"}],\"histogram2d\":[{\"colorbar\":{\"outlinewidth\":0,\"ticks\":\"\"},\"colorscale\":[[0.0,\"#0d0887\"],[0.1111111111111111,\"#46039f\"],[0.2222222222222222,\"#7201a8\"],[0.3333333333333333,\"#9c179e\"],[0.4444444444444444,\"#bd3786\"],[0.5555555555555556,\"#d8576b\"],[0.6666666666666666,\"#ed7953\"],[0.7777777777777778,\"#fb9f3a\"],[0.8888888888888888,\"#fdca26\"],[1.0,\"#f0f921\"]],\"type\":\"histogram2d\"}],\"histogram2dcontour\":[{\"colorbar\":{\"outlinewidth\":0,\"ticks\":\"\"},\"colorscale\":[[0.0,\"#0d0887\"],[0.1111111111111111,\"#46039f\"],[0.2222222222222222,\"#7201a8\"],[0.3333333333333333,\"#9c179e\"],[0.4444444444444444,\"#bd3786\"],[0.5555555555555556,\"#d8576b\"],[0.6666666666666666,\"#ed7953\"],[0.7777777777777778,\"#fb9f3a\"],[0.8888888888888888,\"#fdca26\"],[1.0,\"#f0f921\"]],\"type\":\"histogram2dcontour\"}],\"mesh3d\":[{\"colorbar\":{\"outlinewidth\":0,\"ticks\":\"\"},\"type\":\"mesh3d\"}],\"parcoords\":[{\"line\":{\"colorbar\":{\"outlinewidth\":0,\"ticks\":\"\"}},\"type\":\"parcoords\"}],\"pie\":[{\"automargin\":true,\"type\":\"pie\"}],\"scatter\":[{\"marker\":{\"colorbar\":{\"outlinewidth\":0,\"ticks\":\"\"}},\"type\":\"scatter\"}],\"scatter3d\":[{\"line\":{\"colorbar\":{\"outlinewidth\":0,\"ticks\":\"\"}},\"marker\":{\"colorbar\":{\"outlinewidth\":0,\"ticks\":\"\"}},\"type\":\"scatter3d\"}],\"scattercarpet\":[{\"marker\":{\"colorbar\":{\"outlinewidth\":0,\"ticks\":\"\"}},\"type\":\"scattercarpet\"}],\"scattergeo\":[{\"marker\":{\"colorbar\":{\"outlinewidth\":0,\"ticks\":\"\"}},\"type\":\"scattergeo\"}],\"scattergl\":[{\"marker\":{\"colorbar\":{\"outlinewidth\":0,\"ticks\":\"\"}},\"type\":\"scattergl\"}],\"scattermapbox\":[{\"marker\":{\"colorbar\":{\"outlinewidth\":0,\"ticks\":\"\"}},\"type\":\"scattermapbox\"}],\"scatterpolar\":[{\"marker\":{\"colorbar\":{\"outlinewidth\":0,\"ticks\":\"\"}},\"type\":\"scatterpolar\"}],\"scatterpolargl\":[{\"marker\":{\"colorbar\":{\"outlinewidth\":0,\"ticks\":\"\"}},\"type\":\"scatterpolargl\"}],\"scatterternary\":[{\"marker\":{\"colorbar\":{\"outlinewidth\":0,\"ticks\":\"\"}},\"type\":\"scatterternary\"}],\"surface\":[{\"colorbar\":{\"outlinewidth\":0,\"ticks\":\"\"},\"colorscale\":[[0.0,\"#0d0887\"],[0.1111111111111111,\"#46039f\"],[0.2222222222222222,\"#7201a8\"],[0.3333333333333333,\"#9c179e\"],[0.4444444444444444,\"#bd3786\"],[0.5555555555555556,\"#d8576b\"],[0.6666666666666666,\"#ed7953\"],[0.7777777777777778,\"#fb9f3a\"],[0.8888888888888888,\"#fdca26\"],[1.0,\"#f0f921\"]],\"type\":\"surface\"}],\"table\":[{\"cells\":{\"fill\":{\"color\":\"#EBF0F8\"},\"line\":{\"color\":\"white\"}},\"header\":{\"fill\":{\"color\":\"#C8D4E3\"},\"line\":{\"color\":\"white\"}},\"type\":\"table\"}]},\"layout\":{\"annotationdefaults\":{\"arrowcolor\":\"#2a3f5f\",\"arrowhead\":0,\"arrowwidth\":1},\"autotypenumbers\":\"strict\",\"coloraxis\":{\"colorbar\":{\"outlinewidth\":0,\"ticks\":\"\"}},\"colorscale\":{\"diverging\":[[0,\"#8e0152\"],[0.1,\"#c51b7d\"],[0.2,\"#de77ae\"],[0.3,\"#f1b6da\"],[0.4,\"#fde0ef\"],[0.5,\"#f7f7f7\"],[0.6,\"#e6f5d0\"],[0.7,\"#b8e186\"],[0.8,\"#7fbc41\"],[0.9,\"#4d9221\"],[1,\"#276419\"]],\"sequential\":[[0.0,\"#0d0887\"],[0.1111111111111111,\"#46039f\"],[0.2222222222222222,\"#7201a8\"],[0.3333333333333333,\"#9c179e\"],[0.4444444444444444,\"#bd3786\"],[0.5555555555555556,\"#d8576b\"],[0.6666666666666666,\"#ed7953\"],[0.7777777777777778,\"#fb9f3a\"],[0.8888888888888888,\"#fdca26\"],[1.0,\"#f0f921\"]],\"sequentialminus\":[[0.0,\"#0d0887\"],[0.1111111111111111,\"#46039f\"],[0.2222222222222222,\"#7201a8\"],[0.3333333333333333,\"#9c179e\"],[0.4444444444444444,\"#bd3786\"],[0.5555555555555556,\"#d8576b\"],[0.6666666666666666,\"#ed7953\"],[0.7777777777777778,\"#fb9f3a\"],[0.8888888888888888,\"#fdca26\"],[1.0,\"#f0f921\"]]},\"colorway\":[\"#636efa\",\"#EF553B\",\"#00cc96\",\"#ab63fa\",\"#FFA15A\",\"#19d3f3\",\"#FF6692\",\"#B6E880\",\"#FF97FF\",\"#FECB52\"],\"font\":{\"color\":\"#2a3f5f\"},\"geo\":{\"bgcolor\":\"white\",\"lakecolor\":\"white\",\"landcolor\":\"#E5ECF6\",\"showlakes\":true,\"showland\":true,\"subunitcolor\":\"white\"},\"hoverlabel\":{\"align\":\"left\"},\"hovermode\":\"closest\",\"mapbox\":{\"style\":\"light\"},\"paper_bgcolor\":\"white\",\"plot_bgcolor\":\"#E5ECF6\",\"polar\":{\"angularaxis\":{\"gridcolor\":\"white\",\"linecolor\":\"white\",\"ticks\":\"\"},\"bgcolor\":\"#E5ECF6\",\"radialaxis\":{\"gridcolor\":\"white\",\"linecolor\":\"white\",\"ticks\":\"\"}},\"scene\":{\"xaxis\":{\"backgroundcolor\":\"#E5ECF6\",\"gridcolor\":\"white\",\"gridwidth\":2,\"linecolor\":\"white\",\"showbackground\":true,\"ticks\":\"\",\"zerolinecolor\":\"white\"},\"yaxis\":{\"backgroundcolor\":\"#E5ECF6\",\"gridcolor\":\"white\",\"gridwidth\":2,\"linecolor\":\"white\",\"showbackground\":true,\"ticks\":\"\",\"zerolinecolor\":\"white\"},\"zaxis\":{\"backgroundcolor\":\"#E5ECF6\",\"gridcolor\":\"white\",\"gridwidth\":2,\"linecolor\":\"white\",\"showbackground\":true,\"ticks\":\"\",\"zerolinecolor\":\"white\"}},\"shapedefaults\":{\"line\":{\"color\":\"#2a3f5f\"}},\"ternary\":{\"aaxis\":{\"gridcolor\":\"white\",\"linecolor\":\"white\",\"ticks\":\"\"},\"baxis\":{\"gridcolor\":\"white\",\"linecolor\":\"white\",\"ticks\":\"\"},\"bgcolor\":\"#E5ECF6\",\"caxis\":{\"gridcolor\":\"white\",\"linecolor\":\"white\",\"ticks\":\"\"}},\"title\":{\"x\":0.05},\"xaxis\":{\"automargin\":true,\"gridcolor\":\"white\",\"linecolor\":\"white\",\"ticks\":\"\",\"title\":{\"standoff\":15},\"zerolinecolor\":\"white\",\"zerolinewidth\":2},\"yaxis\":{\"automargin\":true,\"gridcolor\":\"white\",\"linecolor\":\"white\",\"ticks\":\"\",\"title\":{\"standoff\":15},\"zerolinecolor\":\"white\",\"zerolinewidth\":2}}},\"xaxis\":{\"anchor\":\"y\",\"domain\":[0.0,1.0],\"title\":{\"text\":\"2018_AVG_home\"}},\"yaxis\":{\"anchor\":\"x\",\"domain\":[0.0,1.0],\"title\":{\"text\":\"2018_AVG_road\"}},\"legend\":{\"title\":{\"text\":\"TEAM\"},\"tracegroupgap\":0},\"title\":{\"text\":\"2018\"}},                        {\"responsive\": true}                    ).then(function(){\n",
       "                            \n",
       "var gd = document.getElementById('7bb59bb5-d923-4ac9-a9d4-2b03b97a48f8');\n",
       "var x = new MutationObserver(function (mutations, observer) {{\n",
       "        var display = window.getComputedStyle(gd).display;\n",
       "        if (!display || display === 'none') {{\n",
       "            console.log([gd, 'removed!']);\n",
       "            Plotly.purge(gd);\n",
       "            observer.disconnect();\n",
       "        }}\n",
       "}});\n",
       "\n",
       "// Listen for the removal of the full notebook cells\n",
       "var notebookContainer = gd.closest('#notebook-container');\n",
       "if (notebookContainer) {{\n",
       "    x.observe(notebookContainer, {childList: true});\n",
       "}}\n",
       "\n",
       "// Listen for the clearing of the current output cell\n",
       "var outputEl = gd.closest('.output');\n",
       "if (outputEl) {{\n",
       "    x.observe(outputEl, {childList: true});\n",
       "}}\n",
       "\n",
       "                        })                };                });            </script>        </div>"
      ]
     },
     "metadata": {},
     "output_type": "display_data"
    }
   ],
   "source": [
    "fig = px.scatter(data_frame = home_road, x='2018_AVG_home', y='2018_AVG_road',color='TEAM',title='2018')\n",
    "fig.show()\n",
    "fig.write_html(\"2018.html\", full_html=False, include_plotlyjs='cdn')"
   ]
  },
  {
   "cell_type": "code",
   "execution_count": 65,
   "id": "d0736d28",
   "metadata": {},
   "outputs": [
    {
     "data": {
      "application/vnd.plotly.v1+json": {
       "config": {
        "plotlyServerURL": "https://plot.ly"
       },
       "data": [
        {
         "hovertemplate": "TEAM=Arizona<br>2015_AVG_home=%{x}<br>2015_AVG_road=%{y}<extra></extra>",
         "legendgroup": "Arizona",
         "marker": {
          "color": "#636efa",
          "symbol": "circle"
         },
         "mode": "markers",
         "name": "Arizona",
         "orientation": "v",
         "showlegend": true,
         "type": "scatter",
         "x": [
          25680
         ],
         "xaxis": "x",
         "y": [
          32654
         ],
         "yaxis": "y"
        },
        {
         "hovertemplate": "TEAM=Atlanta<br>2015_AVG_home=%{x}<br>2015_AVG_road=%{y}<extra></extra>",
         "legendgroup": "Atlanta",
         "marker": {
          "color": "#EF553B",
          "symbol": "circle"
         },
         "mode": "markers",
         "name": "Atlanta",
         "orientation": "v",
         "showlegend": true,
         "type": "scatter",
         "x": [
          25017
         ],
         "xaxis": "x",
         "y": [
          29699
         ],
         "yaxis": "y"
        },
        {
         "hovertemplate": "TEAM=Baltimore<br>2015_AVG_home=%{x}<br>2015_AVG_road=%{y}<extra></extra>",
         "legendgroup": "Baltimore",
         "marker": {
          "color": "#00cc96",
          "symbol": "circle"
         },
         "mode": "markers",
         "name": "Baltimore",
         "orientation": "v",
         "showlegend": true,
         "type": "scatter",
         "x": [
          29374
         ],
         "xaxis": "x",
         "y": [
          28714
         ],
         "yaxis": "y"
        },
        {
         "hovertemplate": "TEAM=Boston<br>2015_AVG_home=%{x}<br>2015_AVG_road=%{y}<extra></extra>",
         "legendgroup": "Boston",
         "marker": {
          "color": "#ab63fa",
          "symbol": "circle"
         },
         "mode": "markers",
         "name": "Boston",
         "orientation": "v",
         "showlegend": true,
         "type": "scatter",
         "x": [
          35564
         ],
         "xaxis": "x",
         "y": [
          32263
         ],
         "yaxis": "y"
        },
        {
         "hovertemplate": "TEAM=Chicago Cubs<br>2015_AVG_home=%{x}<br>2015_AVG_road=%{y}<extra></extra>",
         "legendgroup": "Chicago Cubs",
         "marker": {
          "color": "#FFA15A",
          "symbol": "circle"
         },
         "mode": "markers",
         "name": "Chicago Cubs",
         "orientation": "v",
         "showlegend": true,
         "type": "scatter",
         "x": [
          36540
         ],
         "xaxis": "x",
         "y": [
          34422
         ],
         "yaxis": "y"
        },
        {
         "hovertemplate": "TEAM=Chicago White Sox<br>2015_AVG_home=%{x}<br>2015_AVG_road=%{y}<extra></extra>",
         "legendgroup": "Chicago White Sox",
         "marker": {
          "color": "#19d3f3",
          "symbol": "circle"
         },
         "mode": "markers",
         "name": "Chicago White Sox",
         "orientation": "v",
         "showlegend": true,
         "type": "scatter",
         "x": [
          21947
         ],
         "xaxis": "x",
         "y": [
          29030
         ],
         "yaxis": "y"
        },
        {
         "hovertemplate": "TEAM=Cincinnati<br>2015_AVG_home=%{x}<br>2015_AVG_road=%{y}<extra></extra>",
         "legendgroup": "Cincinnati",
         "marker": {
          "color": "#FF6692",
          "symbol": "circle"
         },
         "mode": "markers",
         "name": "Cincinnati",
         "orientation": "v",
         "showlegend": true,
         "type": "scatter",
         "x": [
          29870
         ],
         "xaxis": "x",
         "y": [
          32075
         ],
         "yaxis": "y"
        },
        {
         "hovertemplate": "TEAM=Cleveland<br>2015_AVG_home=%{x}<br>2015_AVG_road=%{y}<extra></extra>",
         "legendgroup": "Cleveland",
         "marker": {
          "color": "#B6E880",
          "symbol": "circle"
         },
         "mode": "markers",
         "name": "Cleveland",
         "orientation": "v",
         "showlegend": true,
         "type": "scatter",
         "x": [
          17806
         ],
         "xaxis": "x",
         "y": [
          29150
         ],
         "yaxis": "y"
        },
        {
         "hovertemplate": "TEAM=Colorado<br>2015_AVG_home=%{x}<br>2015_AVG_road=%{y}<extra></extra>",
         "legendgroup": "Colorado",
         "marker": {
          "color": "#FF97FF",
          "symbol": "circle"
         },
         "mode": "markers",
         "name": "Colorado",
         "orientation": "v",
         "showlegend": true,
         "type": "scatter",
         "x": [
          31334
         ],
         "xaxis": "x",
         "y": [
          30962
         ],
         "yaxis": "y"
        },
        {
         "hovertemplate": "TEAM=Detroit<br>2015_AVG_home=%{x}<br>2015_AVG_road=%{y}<extra></extra>",
         "legendgroup": "Detroit",
         "marker": {
          "color": "#FECB52",
          "symbol": "circle"
         },
         "mode": "markers",
         "name": "Detroit",
         "orientation": "v",
         "showlegend": true,
         "type": "scatter",
         "x": [
          33654
         ],
         "xaxis": "x",
         "y": [
          29719
         ],
         "yaxis": "y"
        },
        {
         "hovertemplate": "TEAM=Houston<br>2015_AVG_home=%{x}<br>2015_AVG_road=%{y}<extra></extra>",
         "legendgroup": "Houston",
         "marker": {
          "color": "#636efa",
          "symbol": "circle"
         },
         "mode": "markers",
         "name": "Houston",
         "orientation": "v",
         "showlegend": true,
         "type": "scatter",
         "x": [
          26587
         ],
         "xaxis": "x",
         "y": [
          28121
         ],
         "yaxis": "y"
        },
        {
         "hovertemplate": "TEAM=Kansas City<br>2015_AVG_home=%{x}<br>2015_AVG_road=%{y}<extra></extra>",
         "legendgroup": "Kansas City",
         "marker": {
          "color": "#EF553B",
          "symbol": "circle"
         },
         "mode": "markers",
         "name": "Kansas City",
         "orientation": "v",
         "showlegend": true,
         "type": "scatter",
         "x": [
          33438
         ],
         "xaxis": "x",
         "y": [
          27681
         ],
         "yaxis": "y"
        },
        {
         "hovertemplate": "TEAM=LA Angels<br>2015_AVG_home=%{x}<br>2015_AVG_road=%{y}<extra></extra>",
         "legendgroup": "LA Angels",
         "marker": {
          "color": "#00cc96",
          "symbol": "circle"
         },
         "mode": "markers",
         "name": "LA Angels",
         "orientation": "v",
         "showlegend": true,
         "type": "scatter",
         "x": [
          37194
         ],
         "xaxis": "x",
         "y": [
          28958
         ],
         "yaxis": "y"
        },
        {
         "hovertemplate": "TEAM=LA Dodgers<br>2015_AVG_home=%{x}<br>2015_AVG_road=%{y}<extra></extra>",
         "legendgroup": "LA Dodgers",
         "marker": {
          "color": "#ab63fa",
          "symbol": "circle"
         },
         "mode": "markers",
         "name": "LA Dodgers",
         "orientation": "v",
         "showlegend": true,
         "type": "scatter",
         "x": [
          46479
         ],
         "xaxis": "x",
         "y": [
          34525
         ],
         "yaxis": "y"
        },
        {
         "hovertemplate": "TEAM=Miami<br>2015_AVG_home=%{x}<br>2015_AVG_road=%{y}<extra></extra>",
         "legendgroup": "Miami",
         "marker": {
          "color": "#FFA15A",
          "symbol": "circle"
         },
         "mode": "markers",
         "name": "Miami",
         "orientation": "v",
         "showlegend": true,
         "type": "scatter",
         "x": [
          21632
         ],
         "xaxis": "x",
         "y": [
          29215
         ],
         "yaxis": "y"
        },
        {
         "hovertemplate": "TEAM=Milwaukee<br>2015_AVG_home=%{x}<br>2015_AVG_road=%{y}<extra></extra>",
         "legendgroup": "Milwaukee",
         "marker": {
          "color": "#19d3f3",
          "symbol": "circle"
         },
         "mode": "markers",
         "name": "Milwaukee",
         "orientation": "v",
         "showlegend": true,
         "type": "scatter",
         "x": [
          31389
         ],
         "xaxis": "x",
         "y": [
          31634
         ],
         "yaxis": "y"
        },
        {
         "hovertemplate": "TEAM=Minnesota<br>2015_AVG_home=%{x}<br>2015_AVG_road=%{y}<extra></extra>",
         "legendgroup": "Minnesota",
         "marker": {
          "color": "#FF6692",
          "symbol": "circle"
         },
         "mode": "markers",
         "name": "Minnesota",
         "orientation": "v",
         "showlegend": true,
         "type": "scatter",
         "x": [
          27408
         ],
         "xaxis": "x",
         "y": [
          29306
         ],
         "yaxis": "y"
        },
        {
         "hovertemplate": "TEAM=NY Mets<br>2015_AVG_home=%{x}<br>2015_AVG_road=%{y}<extra></extra>",
         "legendgroup": "NY Mets",
         "marker": {
          "color": "#B6E880",
          "symbol": "circle"
         },
         "mode": "markers",
         "name": "NY Mets",
         "orientation": "v",
         "showlegend": true,
         "type": "scatter",
         "x": [
          31725
         ],
         "xaxis": "x",
         "y": [
          30693
         ],
         "yaxis": "y"
        },
        {
         "hovertemplate": "TEAM=NY Yankees<br>2015_AVG_home=%{x}<br>2015_AVG_road=%{y}<extra></extra>",
         "legendgroup": "NY Yankees",
         "marker": {
          "color": "#FF97FF",
          "symbol": "circle"
         },
         "mode": "markers",
         "name": "NY Yankees",
         "orientation": "v",
         "showlegend": true,
         "type": "scatter",
         "x": [
          39922
         ],
         "xaxis": "x",
         "y": [
          31322
         ],
         "yaxis": "y"
        },
        {
         "hovertemplate": "TEAM=Oakland<br>2015_AVG_home=%{x}<br>2015_AVG_road=%{y}<extra></extra>",
         "legendgroup": "Oakland",
         "marker": {
          "color": "#FECB52",
          "symbol": "circle"
         },
         "mode": "markers",
         "name": "Oakland",
         "orientation": "v",
         "showlegend": true,
         "type": "scatter",
         "x": [
          21829
         ],
         "xaxis": "x",
         "y": [
          29526
         ],
         "yaxis": "y"
        },
        {
         "hovertemplate": "TEAM=Philadelphia<br>2015_AVG_home=%{x}<br>2015_AVG_road=%{y}<extra></extra>",
         "legendgroup": "Philadelphia",
         "marker": {
          "color": "#636efa",
          "symbol": "circle"
         },
         "mode": "markers",
         "name": "Philadelphia",
         "orientation": "v",
         "showlegend": true,
         "type": "scatter",
         "x": [
          23475
         ],
         "xaxis": "x",
         "y": [
          30906
         ],
         "yaxis": "y"
        },
        {
         "hovertemplate": "TEAM=Pittsburgh<br>2015_AVG_home=%{x}<br>2015_AVG_road=%{y}<extra></extra>",
         "legendgroup": "Pittsburgh",
         "marker": {
          "color": "#EF553B",
          "symbol": "circle"
         },
         "mode": "markers",
         "name": "Pittsburgh",
         "orientation": "v",
         "showlegend": true,
         "type": "scatter",
         "x": [
          30846
         ],
         "xaxis": "x",
         "y": [
          33049
         ],
         "yaxis": "y"
        },
        {
         "hovertemplate": "TEAM=San Diego<br>2015_AVG_home=%{x}<br>2015_AVG_road=%{y}<extra></extra>",
         "legendgroup": "San Diego",
         "marker": {
          "color": "#00cc96",
          "symbol": "circle"
         },
         "mode": "markers",
         "name": "San Diego",
         "orientation": "v",
         "showlegend": true,
         "type": "scatter",
         "x": [
          30367
         ],
         "xaxis": "x",
         "y": [
          31721
         ],
         "yaxis": "y"
        },
        {
         "hovertemplate": "TEAM=San Francisco<br>2015_AVG_home=%{x}<br>2015_AVG_road=%{y}<extra></extra>",
         "legendgroup": "San Francisco",
         "marker": {
          "color": "#ab63fa",
          "symbol": "circle"
         },
         "mode": "markers",
         "name": "San Francisco",
         "orientation": "v",
         "showlegend": true,
         "type": "scatter",
         "x": [
          41677
         ],
         "xaxis": "x",
         "y": [
          34121
         ],
         "yaxis": "y"
        },
        {
         "hovertemplate": "TEAM=Seattle<br>2015_AVG_home=%{x}<br>2015_AVG_road=%{y}<extra></extra>",
         "legendgroup": "Seattle",
         "marker": {
          "color": "#FFA15A",
          "symbol": "circle"
         },
         "mode": "markers",
         "name": "Seattle",
         "orientation": "v",
         "showlegend": true,
         "type": "scatter",
         "x": [
          27081
         ],
         "xaxis": "x",
         "y": [
          29052
         ],
         "yaxis": "y"
        },
        {
         "hovertemplate": "TEAM=St. Louis<br>2015_AVG_home=%{x}<br>2015_AVG_road=%{y}<extra></extra>",
         "legendgroup": "St. Louis",
         "marker": {
          "color": "#19d3f3",
          "symbol": "circle"
         },
         "mode": "markers",
         "name": "St. Louis",
         "orientation": "v",
         "showlegend": true,
         "type": "scatter",
         "x": [
          43467
         ],
         "xaxis": "x",
         "y": [
          31317
         ],
         "yaxis": "y"
        },
        {
         "hovertemplate": "TEAM=Tampa Bay<br>2015_AVG_home=%{x}<br>2015_AVG_road=%{y}<extra></extra>",
         "legendgroup": "Tampa Bay",
         "marker": {
          "color": "#FF6692",
          "symbol": "circle"
         },
         "mode": "markers",
         "name": "Tampa Bay",
         "orientation": "v",
         "showlegend": true,
         "type": "scatter",
         "x": [
          15403
         ],
         "xaxis": "x",
         "y": [
          28189
         ],
         "yaxis": "y"
        },
        {
         "hovertemplate": "TEAM=Texas<br>2015_AVG_home=%{x}<br>2015_AVG_road=%{y}<extra></extra>",
         "legendgroup": "Texas",
         "marker": {
          "color": "#B6E880",
          "symbol": "circle"
         },
         "mode": "markers",
         "name": "Texas",
         "orientation": "v",
         "showlegend": true,
         "type": "scatter",
         "x": [
          30763
         ],
         "xaxis": "x",
         "y": [
          29073
         ],
         "yaxis": "y"
        },
        {
         "hovertemplate": "TEAM=Toronto<br>2015_AVG_home=%{x}<br>2015_AVG_road=%{y}<extra></extra>",
         "legendgroup": "Toronto",
         "marker": {
          "color": "#FF97FF",
          "symbol": "circle"
         },
         "mode": "markers",
         "name": "Toronto",
         "orientation": "v",
         "showlegend": true,
         "type": "scatter",
         "x": [
          34504
         ],
         "xaxis": "x",
         "y": [
          27762
         ],
         "yaxis": "y"
        },
        {
         "hovertemplate": "TEAM=Washington<br>2015_AVG_home=%{x}<br>2015_AVG_road=%{y}<extra></extra>",
         "legendgroup": "Washington",
         "marker": {
          "color": "#FECB52",
          "symbol": "circle"
         },
         "mode": "markers",
         "name": "Washington",
         "orientation": "v",
         "showlegend": true,
         "type": "scatter",
         "x": [
          32343
         ],
         "xaxis": "x",
         "y": [
          30230
         ],
         "yaxis": "y"
        }
       ],
       "layout": {
        "legend": {
         "title": {
          "text": "TEAM"
         },
         "tracegroupgap": 0
        },
        "template": {
         "data": {
          "bar": [
           {
            "error_x": {
             "color": "#2a3f5f"
            },
            "error_y": {
             "color": "#2a3f5f"
            },
            "marker": {
             "line": {
              "color": "#E5ECF6",
              "width": 0.5
             },
             "pattern": {
              "fillmode": "overlay",
              "size": 10,
              "solidity": 0.2
             }
            },
            "type": "bar"
           }
          ],
          "barpolar": [
           {
            "marker": {
             "line": {
              "color": "#E5ECF6",
              "width": 0.5
             },
             "pattern": {
              "fillmode": "overlay",
              "size": 10,
              "solidity": 0.2
             }
            },
            "type": "barpolar"
           }
          ],
          "carpet": [
           {
            "aaxis": {
             "endlinecolor": "#2a3f5f",
             "gridcolor": "white",
             "linecolor": "white",
             "minorgridcolor": "white",
             "startlinecolor": "#2a3f5f"
            },
            "baxis": {
             "endlinecolor": "#2a3f5f",
             "gridcolor": "white",
             "linecolor": "white",
             "minorgridcolor": "white",
             "startlinecolor": "#2a3f5f"
            },
            "type": "carpet"
           }
          ],
          "choropleth": [
           {
            "colorbar": {
             "outlinewidth": 0,
             "ticks": ""
            },
            "type": "choropleth"
           }
          ],
          "contour": [
           {
            "colorbar": {
             "outlinewidth": 0,
             "ticks": ""
            },
            "colorscale": [
             [
              0,
              "#0d0887"
             ],
             [
              0.1111111111111111,
              "#46039f"
             ],
             [
              0.2222222222222222,
              "#7201a8"
             ],
             [
              0.3333333333333333,
              "#9c179e"
             ],
             [
              0.4444444444444444,
              "#bd3786"
             ],
             [
              0.5555555555555556,
              "#d8576b"
             ],
             [
              0.6666666666666666,
              "#ed7953"
             ],
             [
              0.7777777777777778,
              "#fb9f3a"
             ],
             [
              0.8888888888888888,
              "#fdca26"
             ],
             [
              1,
              "#f0f921"
             ]
            ],
            "type": "contour"
           }
          ],
          "contourcarpet": [
           {
            "colorbar": {
             "outlinewidth": 0,
             "ticks": ""
            },
            "type": "contourcarpet"
           }
          ],
          "heatmap": [
           {
            "colorbar": {
             "outlinewidth": 0,
             "ticks": ""
            },
            "colorscale": [
             [
              0,
              "#0d0887"
             ],
             [
              0.1111111111111111,
              "#46039f"
             ],
             [
              0.2222222222222222,
              "#7201a8"
             ],
             [
              0.3333333333333333,
              "#9c179e"
             ],
             [
              0.4444444444444444,
              "#bd3786"
             ],
             [
              0.5555555555555556,
              "#d8576b"
             ],
             [
              0.6666666666666666,
              "#ed7953"
             ],
             [
              0.7777777777777778,
              "#fb9f3a"
             ],
             [
              0.8888888888888888,
              "#fdca26"
             ],
             [
              1,
              "#f0f921"
             ]
            ],
            "type": "heatmap"
           }
          ],
          "heatmapgl": [
           {
            "colorbar": {
             "outlinewidth": 0,
             "ticks": ""
            },
            "colorscale": [
             [
              0,
              "#0d0887"
             ],
             [
              0.1111111111111111,
              "#46039f"
             ],
             [
              0.2222222222222222,
              "#7201a8"
             ],
             [
              0.3333333333333333,
              "#9c179e"
             ],
             [
              0.4444444444444444,
              "#bd3786"
             ],
             [
              0.5555555555555556,
              "#d8576b"
             ],
             [
              0.6666666666666666,
              "#ed7953"
             ],
             [
              0.7777777777777778,
              "#fb9f3a"
             ],
             [
              0.8888888888888888,
              "#fdca26"
             ],
             [
              1,
              "#f0f921"
             ]
            ],
            "type": "heatmapgl"
           }
          ],
          "histogram": [
           {
            "marker": {
             "pattern": {
              "fillmode": "overlay",
              "size": 10,
              "solidity": 0.2
             }
            },
            "type": "histogram"
           }
          ],
          "histogram2d": [
           {
            "colorbar": {
             "outlinewidth": 0,
             "ticks": ""
            },
            "colorscale": [
             [
              0,
              "#0d0887"
             ],
             [
              0.1111111111111111,
              "#46039f"
             ],
             [
              0.2222222222222222,
              "#7201a8"
             ],
             [
              0.3333333333333333,
              "#9c179e"
             ],
             [
              0.4444444444444444,
              "#bd3786"
             ],
             [
              0.5555555555555556,
              "#d8576b"
             ],
             [
              0.6666666666666666,
              "#ed7953"
             ],
             [
              0.7777777777777778,
              "#fb9f3a"
             ],
             [
              0.8888888888888888,
              "#fdca26"
             ],
             [
              1,
              "#f0f921"
             ]
            ],
            "type": "histogram2d"
           }
          ],
          "histogram2dcontour": [
           {
            "colorbar": {
             "outlinewidth": 0,
             "ticks": ""
            },
            "colorscale": [
             [
              0,
              "#0d0887"
             ],
             [
              0.1111111111111111,
              "#46039f"
             ],
             [
              0.2222222222222222,
              "#7201a8"
             ],
             [
              0.3333333333333333,
              "#9c179e"
             ],
             [
              0.4444444444444444,
              "#bd3786"
             ],
             [
              0.5555555555555556,
              "#d8576b"
             ],
             [
              0.6666666666666666,
              "#ed7953"
             ],
             [
              0.7777777777777778,
              "#fb9f3a"
             ],
             [
              0.8888888888888888,
              "#fdca26"
             ],
             [
              1,
              "#f0f921"
             ]
            ],
            "type": "histogram2dcontour"
           }
          ],
          "mesh3d": [
           {
            "colorbar": {
             "outlinewidth": 0,
             "ticks": ""
            },
            "type": "mesh3d"
           }
          ],
          "parcoords": [
           {
            "line": {
             "colorbar": {
              "outlinewidth": 0,
              "ticks": ""
             }
            },
            "type": "parcoords"
           }
          ],
          "pie": [
           {
            "automargin": true,
            "type": "pie"
           }
          ],
          "scatter": [
           {
            "marker": {
             "colorbar": {
              "outlinewidth": 0,
              "ticks": ""
             }
            },
            "type": "scatter"
           }
          ],
          "scatter3d": [
           {
            "line": {
             "colorbar": {
              "outlinewidth": 0,
              "ticks": ""
             }
            },
            "marker": {
             "colorbar": {
              "outlinewidth": 0,
              "ticks": ""
             }
            },
            "type": "scatter3d"
           }
          ],
          "scattercarpet": [
           {
            "marker": {
             "colorbar": {
              "outlinewidth": 0,
              "ticks": ""
             }
            },
            "type": "scattercarpet"
           }
          ],
          "scattergeo": [
           {
            "marker": {
             "colorbar": {
              "outlinewidth": 0,
              "ticks": ""
             }
            },
            "type": "scattergeo"
           }
          ],
          "scattergl": [
           {
            "marker": {
             "colorbar": {
              "outlinewidth": 0,
              "ticks": ""
             }
            },
            "type": "scattergl"
           }
          ],
          "scattermapbox": [
           {
            "marker": {
             "colorbar": {
              "outlinewidth": 0,
              "ticks": ""
             }
            },
            "type": "scattermapbox"
           }
          ],
          "scatterpolar": [
           {
            "marker": {
             "colorbar": {
              "outlinewidth": 0,
              "ticks": ""
             }
            },
            "type": "scatterpolar"
           }
          ],
          "scatterpolargl": [
           {
            "marker": {
             "colorbar": {
              "outlinewidth": 0,
              "ticks": ""
             }
            },
            "type": "scatterpolargl"
           }
          ],
          "scatterternary": [
           {
            "marker": {
             "colorbar": {
              "outlinewidth": 0,
              "ticks": ""
             }
            },
            "type": "scatterternary"
           }
          ],
          "surface": [
           {
            "colorbar": {
             "outlinewidth": 0,
             "ticks": ""
            },
            "colorscale": [
             [
              0,
              "#0d0887"
             ],
             [
              0.1111111111111111,
              "#46039f"
             ],
             [
              0.2222222222222222,
              "#7201a8"
             ],
             [
              0.3333333333333333,
              "#9c179e"
             ],
             [
              0.4444444444444444,
              "#bd3786"
             ],
             [
              0.5555555555555556,
              "#d8576b"
             ],
             [
              0.6666666666666666,
              "#ed7953"
             ],
             [
              0.7777777777777778,
              "#fb9f3a"
             ],
             [
              0.8888888888888888,
              "#fdca26"
             ],
             [
              1,
              "#f0f921"
             ]
            ],
            "type": "surface"
           }
          ],
          "table": [
           {
            "cells": {
             "fill": {
              "color": "#EBF0F8"
             },
             "line": {
              "color": "white"
             }
            },
            "header": {
             "fill": {
              "color": "#C8D4E3"
             },
             "line": {
              "color": "white"
             }
            },
            "type": "table"
           }
          ]
         },
         "layout": {
          "annotationdefaults": {
           "arrowcolor": "#2a3f5f",
           "arrowhead": 0,
           "arrowwidth": 1
          },
          "autotypenumbers": "strict",
          "coloraxis": {
           "colorbar": {
            "outlinewidth": 0,
            "ticks": ""
           }
          },
          "colorscale": {
           "diverging": [
            [
             0,
             "#8e0152"
            ],
            [
             0.1,
             "#c51b7d"
            ],
            [
             0.2,
             "#de77ae"
            ],
            [
             0.3,
             "#f1b6da"
            ],
            [
             0.4,
             "#fde0ef"
            ],
            [
             0.5,
             "#f7f7f7"
            ],
            [
             0.6,
             "#e6f5d0"
            ],
            [
             0.7,
             "#b8e186"
            ],
            [
             0.8,
             "#7fbc41"
            ],
            [
             0.9,
             "#4d9221"
            ],
            [
             1,
             "#276419"
            ]
           ],
           "sequential": [
            [
             0,
             "#0d0887"
            ],
            [
             0.1111111111111111,
             "#46039f"
            ],
            [
             0.2222222222222222,
             "#7201a8"
            ],
            [
             0.3333333333333333,
             "#9c179e"
            ],
            [
             0.4444444444444444,
             "#bd3786"
            ],
            [
             0.5555555555555556,
             "#d8576b"
            ],
            [
             0.6666666666666666,
             "#ed7953"
            ],
            [
             0.7777777777777778,
             "#fb9f3a"
            ],
            [
             0.8888888888888888,
             "#fdca26"
            ],
            [
             1,
             "#f0f921"
            ]
           ],
           "sequentialminus": [
            [
             0,
             "#0d0887"
            ],
            [
             0.1111111111111111,
             "#46039f"
            ],
            [
             0.2222222222222222,
             "#7201a8"
            ],
            [
             0.3333333333333333,
             "#9c179e"
            ],
            [
             0.4444444444444444,
             "#bd3786"
            ],
            [
             0.5555555555555556,
             "#d8576b"
            ],
            [
             0.6666666666666666,
             "#ed7953"
            ],
            [
             0.7777777777777778,
             "#fb9f3a"
            ],
            [
             0.8888888888888888,
             "#fdca26"
            ],
            [
             1,
             "#f0f921"
            ]
           ]
          },
          "colorway": [
           "#636efa",
           "#EF553B",
           "#00cc96",
           "#ab63fa",
           "#FFA15A",
           "#19d3f3",
           "#FF6692",
           "#B6E880",
           "#FF97FF",
           "#FECB52"
          ],
          "font": {
           "color": "#2a3f5f"
          },
          "geo": {
           "bgcolor": "white",
           "lakecolor": "white",
           "landcolor": "#E5ECF6",
           "showlakes": true,
           "showland": true,
           "subunitcolor": "white"
          },
          "hoverlabel": {
           "align": "left"
          },
          "hovermode": "closest",
          "mapbox": {
           "style": "light"
          },
          "paper_bgcolor": "white",
          "plot_bgcolor": "#E5ECF6",
          "polar": {
           "angularaxis": {
            "gridcolor": "white",
            "linecolor": "white",
            "ticks": ""
           },
           "bgcolor": "#E5ECF6",
           "radialaxis": {
            "gridcolor": "white",
            "linecolor": "white",
            "ticks": ""
           }
          },
          "scene": {
           "xaxis": {
            "backgroundcolor": "#E5ECF6",
            "gridcolor": "white",
            "gridwidth": 2,
            "linecolor": "white",
            "showbackground": true,
            "ticks": "",
            "zerolinecolor": "white"
           },
           "yaxis": {
            "backgroundcolor": "#E5ECF6",
            "gridcolor": "white",
            "gridwidth": 2,
            "linecolor": "white",
            "showbackground": true,
            "ticks": "",
            "zerolinecolor": "white"
           },
           "zaxis": {
            "backgroundcolor": "#E5ECF6",
            "gridcolor": "white",
            "gridwidth": 2,
            "linecolor": "white",
            "showbackground": true,
            "ticks": "",
            "zerolinecolor": "white"
           }
          },
          "shapedefaults": {
           "line": {
            "color": "#2a3f5f"
           }
          },
          "ternary": {
           "aaxis": {
            "gridcolor": "white",
            "linecolor": "white",
            "ticks": ""
           },
           "baxis": {
            "gridcolor": "white",
            "linecolor": "white",
            "ticks": ""
           },
           "bgcolor": "#E5ECF6",
           "caxis": {
            "gridcolor": "white",
            "linecolor": "white",
            "ticks": ""
           }
          },
          "title": {
           "x": 0.05
          },
          "xaxis": {
           "automargin": true,
           "gridcolor": "white",
           "linecolor": "white",
           "ticks": "",
           "title": {
            "standoff": 15
           },
           "zerolinecolor": "white",
           "zerolinewidth": 2
          },
          "yaxis": {
           "automargin": true,
           "gridcolor": "white",
           "linecolor": "white",
           "ticks": "",
           "title": {
            "standoff": 15
           },
           "zerolinecolor": "white",
           "zerolinewidth": 2
          }
         }
        },
        "title": {
         "text": "2015"
        },
        "xaxis": {
         "anchor": "y",
         "domain": [
          0,
          1
         ],
         "title": {
          "text": "2015_AVG_home"
         }
        },
        "yaxis": {
         "anchor": "x",
         "domain": [
          0,
          1
         ],
         "title": {
          "text": "2015_AVG_road"
         }
        }
       }
      },
      "text/html": [
       "<div>                            <div id=\"b2cc6ebb-955a-4170-a021-98624ff52106\" class=\"plotly-graph-div\" style=\"height:525px; width:100%;\"></div>            <script type=\"text/javascript\">                require([\"plotly\"], function(Plotly) {                    window.PLOTLYENV=window.PLOTLYENV || {};                                    if (document.getElementById(\"b2cc6ebb-955a-4170-a021-98624ff52106\")) {                    Plotly.newPlot(                        \"b2cc6ebb-955a-4170-a021-98624ff52106\",                        [{\"hovertemplate\":\"TEAM=Arizona<br>2015_AVG_home=%{x}<br>2015_AVG_road=%{y}<extra></extra>\",\"legendgroup\":\"Arizona\",\"marker\":{\"color\":\"#636efa\",\"symbol\":\"circle\"},\"mode\":\"markers\",\"name\":\"Arizona\",\"orientation\":\"v\",\"showlegend\":true,\"x\":[25680],\"xaxis\":\"x\",\"y\":[32654],\"yaxis\":\"y\",\"type\":\"scatter\"},{\"hovertemplate\":\"TEAM=Atlanta<br>2015_AVG_home=%{x}<br>2015_AVG_road=%{y}<extra></extra>\",\"legendgroup\":\"Atlanta\",\"marker\":{\"color\":\"#EF553B\",\"symbol\":\"circle\"},\"mode\":\"markers\",\"name\":\"Atlanta\",\"orientation\":\"v\",\"showlegend\":true,\"x\":[25017],\"xaxis\":\"x\",\"y\":[29699],\"yaxis\":\"y\",\"type\":\"scatter\"},{\"hovertemplate\":\"TEAM=Baltimore<br>2015_AVG_home=%{x}<br>2015_AVG_road=%{y}<extra></extra>\",\"legendgroup\":\"Baltimore\",\"marker\":{\"color\":\"#00cc96\",\"symbol\":\"circle\"},\"mode\":\"markers\",\"name\":\"Baltimore\",\"orientation\":\"v\",\"showlegend\":true,\"x\":[29374],\"xaxis\":\"x\",\"y\":[28714],\"yaxis\":\"y\",\"type\":\"scatter\"},{\"hovertemplate\":\"TEAM=Boston<br>2015_AVG_home=%{x}<br>2015_AVG_road=%{y}<extra></extra>\",\"legendgroup\":\"Boston\",\"marker\":{\"color\":\"#ab63fa\",\"symbol\":\"circle\"},\"mode\":\"markers\",\"name\":\"Boston\",\"orientation\":\"v\",\"showlegend\":true,\"x\":[35564],\"xaxis\":\"x\",\"y\":[32263],\"yaxis\":\"y\",\"type\":\"scatter\"},{\"hovertemplate\":\"TEAM=Chicago Cubs<br>2015_AVG_home=%{x}<br>2015_AVG_road=%{y}<extra></extra>\",\"legendgroup\":\"Chicago Cubs\",\"marker\":{\"color\":\"#FFA15A\",\"symbol\":\"circle\"},\"mode\":\"markers\",\"name\":\"Chicago Cubs\",\"orientation\":\"v\",\"showlegend\":true,\"x\":[36540],\"xaxis\":\"x\",\"y\":[34422],\"yaxis\":\"y\",\"type\":\"scatter\"},{\"hovertemplate\":\"TEAM=Chicago White Sox<br>2015_AVG_home=%{x}<br>2015_AVG_road=%{y}<extra></extra>\",\"legendgroup\":\"Chicago White Sox\",\"marker\":{\"color\":\"#19d3f3\",\"symbol\":\"circle\"},\"mode\":\"markers\",\"name\":\"Chicago White Sox\",\"orientation\":\"v\",\"showlegend\":true,\"x\":[21947],\"xaxis\":\"x\",\"y\":[29030],\"yaxis\":\"y\",\"type\":\"scatter\"},{\"hovertemplate\":\"TEAM=Cincinnati<br>2015_AVG_home=%{x}<br>2015_AVG_road=%{y}<extra></extra>\",\"legendgroup\":\"Cincinnati\",\"marker\":{\"color\":\"#FF6692\",\"symbol\":\"circle\"},\"mode\":\"markers\",\"name\":\"Cincinnati\",\"orientation\":\"v\",\"showlegend\":true,\"x\":[29870],\"xaxis\":\"x\",\"y\":[32075],\"yaxis\":\"y\",\"type\":\"scatter\"},{\"hovertemplate\":\"TEAM=Cleveland<br>2015_AVG_home=%{x}<br>2015_AVG_road=%{y}<extra></extra>\",\"legendgroup\":\"Cleveland\",\"marker\":{\"color\":\"#B6E880\",\"symbol\":\"circle\"},\"mode\":\"markers\",\"name\":\"Cleveland\",\"orientation\":\"v\",\"showlegend\":true,\"x\":[17806],\"xaxis\":\"x\",\"y\":[29150],\"yaxis\":\"y\",\"type\":\"scatter\"},{\"hovertemplate\":\"TEAM=Colorado<br>2015_AVG_home=%{x}<br>2015_AVG_road=%{y}<extra></extra>\",\"legendgroup\":\"Colorado\",\"marker\":{\"color\":\"#FF97FF\",\"symbol\":\"circle\"},\"mode\":\"markers\",\"name\":\"Colorado\",\"orientation\":\"v\",\"showlegend\":true,\"x\":[31334],\"xaxis\":\"x\",\"y\":[30962],\"yaxis\":\"y\",\"type\":\"scatter\"},{\"hovertemplate\":\"TEAM=Detroit<br>2015_AVG_home=%{x}<br>2015_AVG_road=%{y}<extra></extra>\",\"legendgroup\":\"Detroit\",\"marker\":{\"color\":\"#FECB52\",\"symbol\":\"circle\"},\"mode\":\"markers\",\"name\":\"Detroit\",\"orientation\":\"v\",\"showlegend\":true,\"x\":[33654],\"xaxis\":\"x\",\"y\":[29719],\"yaxis\":\"y\",\"type\":\"scatter\"},{\"hovertemplate\":\"TEAM=Houston<br>2015_AVG_home=%{x}<br>2015_AVG_road=%{y}<extra></extra>\",\"legendgroup\":\"Houston\",\"marker\":{\"color\":\"#636efa\",\"symbol\":\"circle\"},\"mode\":\"markers\",\"name\":\"Houston\",\"orientation\":\"v\",\"showlegend\":true,\"x\":[26587],\"xaxis\":\"x\",\"y\":[28121],\"yaxis\":\"y\",\"type\":\"scatter\"},{\"hovertemplate\":\"TEAM=Kansas City<br>2015_AVG_home=%{x}<br>2015_AVG_road=%{y}<extra></extra>\",\"legendgroup\":\"Kansas City\",\"marker\":{\"color\":\"#EF553B\",\"symbol\":\"circle\"},\"mode\":\"markers\",\"name\":\"Kansas City\",\"orientation\":\"v\",\"showlegend\":true,\"x\":[33438],\"xaxis\":\"x\",\"y\":[27681],\"yaxis\":\"y\",\"type\":\"scatter\"},{\"hovertemplate\":\"TEAM=LA Angels<br>2015_AVG_home=%{x}<br>2015_AVG_road=%{y}<extra></extra>\",\"legendgroup\":\"LA Angels\",\"marker\":{\"color\":\"#00cc96\",\"symbol\":\"circle\"},\"mode\":\"markers\",\"name\":\"LA Angels\",\"orientation\":\"v\",\"showlegend\":true,\"x\":[37194],\"xaxis\":\"x\",\"y\":[28958],\"yaxis\":\"y\",\"type\":\"scatter\"},{\"hovertemplate\":\"TEAM=LA Dodgers<br>2015_AVG_home=%{x}<br>2015_AVG_road=%{y}<extra></extra>\",\"legendgroup\":\"LA Dodgers\",\"marker\":{\"color\":\"#ab63fa\",\"symbol\":\"circle\"},\"mode\":\"markers\",\"name\":\"LA Dodgers\",\"orientation\":\"v\",\"showlegend\":true,\"x\":[46479],\"xaxis\":\"x\",\"y\":[34525],\"yaxis\":\"y\",\"type\":\"scatter\"},{\"hovertemplate\":\"TEAM=Miami<br>2015_AVG_home=%{x}<br>2015_AVG_road=%{y}<extra></extra>\",\"legendgroup\":\"Miami\",\"marker\":{\"color\":\"#FFA15A\",\"symbol\":\"circle\"},\"mode\":\"markers\",\"name\":\"Miami\",\"orientation\":\"v\",\"showlegend\":true,\"x\":[21632],\"xaxis\":\"x\",\"y\":[29215],\"yaxis\":\"y\",\"type\":\"scatter\"},{\"hovertemplate\":\"TEAM=Milwaukee<br>2015_AVG_home=%{x}<br>2015_AVG_road=%{y}<extra></extra>\",\"legendgroup\":\"Milwaukee\",\"marker\":{\"color\":\"#19d3f3\",\"symbol\":\"circle\"},\"mode\":\"markers\",\"name\":\"Milwaukee\",\"orientation\":\"v\",\"showlegend\":true,\"x\":[31389],\"xaxis\":\"x\",\"y\":[31634],\"yaxis\":\"y\",\"type\":\"scatter\"},{\"hovertemplate\":\"TEAM=Minnesota<br>2015_AVG_home=%{x}<br>2015_AVG_road=%{y}<extra></extra>\",\"legendgroup\":\"Minnesota\",\"marker\":{\"color\":\"#FF6692\",\"symbol\":\"circle\"},\"mode\":\"markers\",\"name\":\"Minnesota\",\"orientation\":\"v\",\"showlegend\":true,\"x\":[27408],\"xaxis\":\"x\",\"y\":[29306],\"yaxis\":\"y\",\"type\":\"scatter\"},{\"hovertemplate\":\"TEAM=NY Mets<br>2015_AVG_home=%{x}<br>2015_AVG_road=%{y}<extra></extra>\",\"legendgroup\":\"NY Mets\",\"marker\":{\"color\":\"#B6E880\",\"symbol\":\"circle\"},\"mode\":\"markers\",\"name\":\"NY Mets\",\"orientation\":\"v\",\"showlegend\":true,\"x\":[31725],\"xaxis\":\"x\",\"y\":[30693],\"yaxis\":\"y\",\"type\":\"scatter\"},{\"hovertemplate\":\"TEAM=NY Yankees<br>2015_AVG_home=%{x}<br>2015_AVG_road=%{y}<extra></extra>\",\"legendgroup\":\"NY Yankees\",\"marker\":{\"color\":\"#FF97FF\",\"symbol\":\"circle\"},\"mode\":\"markers\",\"name\":\"NY Yankees\",\"orientation\":\"v\",\"showlegend\":true,\"x\":[39922],\"xaxis\":\"x\",\"y\":[31322],\"yaxis\":\"y\",\"type\":\"scatter\"},{\"hovertemplate\":\"TEAM=Oakland<br>2015_AVG_home=%{x}<br>2015_AVG_road=%{y}<extra></extra>\",\"legendgroup\":\"Oakland\",\"marker\":{\"color\":\"#FECB52\",\"symbol\":\"circle\"},\"mode\":\"markers\",\"name\":\"Oakland\",\"orientation\":\"v\",\"showlegend\":true,\"x\":[21829],\"xaxis\":\"x\",\"y\":[29526],\"yaxis\":\"y\",\"type\":\"scatter\"},{\"hovertemplate\":\"TEAM=Philadelphia<br>2015_AVG_home=%{x}<br>2015_AVG_road=%{y}<extra></extra>\",\"legendgroup\":\"Philadelphia\",\"marker\":{\"color\":\"#636efa\",\"symbol\":\"circle\"},\"mode\":\"markers\",\"name\":\"Philadelphia\",\"orientation\":\"v\",\"showlegend\":true,\"x\":[23475],\"xaxis\":\"x\",\"y\":[30906],\"yaxis\":\"y\",\"type\":\"scatter\"},{\"hovertemplate\":\"TEAM=Pittsburgh<br>2015_AVG_home=%{x}<br>2015_AVG_road=%{y}<extra></extra>\",\"legendgroup\":\"Pittsburgh\",\"marker\":{\"color\":\"#EF553B\",\"symbol\":\"circle\"},\"mode\":\"markers\",\"name\":\"Pittsburgh\",\"orientation\":\"v\",\"showlegend\":true,\"x\":[30846],\"xaxis\":\"x\",\"y\":[33049],\"yaxis\":\"y\",\"type\":\"scatter\"},{\"hovertemplate\":\"TEAM=San Diego<br>2015_AVG_home=%{x}<br>2015_AVG_road=%{y}<extra></extra>\",\"legendgroup\":\"San Diego\",\"marker\":{\"color\":\"#00cc96\",\"symbol\":\"circle\"},\"mode\":\"markers\",\"name\":\"San Diego\",\"orientation\":\"v\",\"showlegend\":true,\"x\":[30367],\"xaxis\":\"x\",\"y\":[31721],\"yaxis\":\"y\",\"type\":\"scatter\"},{\"hovertemplate\":\"TEAM=San Francisco<br>2015_AVG_home=%{x}<br>2015_AVG_road=%{y}<extra></extra>\",\"legendgroup\":\"San Francisco\",\"marker\":{\"color\":\"#ab63fa\",\"symbol\":\"circle\"},\"mode\":\"markers\",\"name\":\"San Francisco\",\"orientation\":\"v\",\"showlegend\":true,\"x\":[41677],\"xaxis\":\"x\",\"y\":[34121],\"yaxis\":\"y\",\"type\":\"scatter\"},{\"hovertemplate\":\"TEAM=Seattle<br>2015_AVG_home=%{x}<br>2015_AVG_road=%{y}<extra></extra>\",\"legendgroup\":\"Seattle\",\"marker\":{\"color\":\"#FFA15A\",\"symbol\":\"circle\"},\"mode\":\"markers\",\"name\":\"Seattle\",\"orientation\":\"v\",\"showlegend\":true,\"x\":[27081],\"xaxis\":\"x\",\"y\":[29052],\"yaxis\":\"y\",\"type\":\"scatter\"},{\"hovertemplate\":\"TEAM=St. Louis<br>2015_AVG_home=%{x}<br>2015_AVG_road=%{y}<extra></extra>\",\"legendgroup\":\"St. Louis\",\"marker\":{\"color\":\"#19d3f3\",\"symbol\":\"circle\"},\"mode\":\"markers\",\"name\":\"St. Louis\",\"orientation\":\"v\",\"showlegend\":true,\"x\":[43467],\"xaxis\":\"x\",\"y\":[31317],\"yaxis\":\"y\",\"type\":\"scatter\"},{\"hovertemplate\":\"TEAM=Tampa Bay<br>2015_AVG_home=%{x}<br>2015_AVG_road=%{y}<extra></extra>\",\"legendgroup\":\"Tampa Bay\",\"marker\":{\"color\":\"#FF6692\",\"symbol\":\"circle\"},\"mode\":\"markers\",\"name\":\"Tampa Bay\",\"orientation\":\"v\",\"showlegend\":true,\"x\":[15403],\"xaxis\":\"x\",\"y\":[28189],\"yaxis\":\"y\",\"type\":\"scatter\"},{\"hovertemplate\":\"TEAM=Texas<br>2015_AVG_home=%{x}<br>2015_AVG_road=%{y}<extra></extra>\",\"legendgroup\":\"Texas\",\"marker\":{\"color\":\"#B6E880\",\"symbol\":\"circle\"},\"mode\":\"markers\",\"name\":\"Texas\",\"orientation\":\"v\",\"showlegend\":true,\"x\":[30763],\"xaxis\":\"x\",\"y\":[29073],\"yaxis\":\"y\",\"type\":\"scatter\"},{\"hovertemplate\":\"TEAM=Toronto<br>2015_AVG_home=%{x}<br>2015_AVG_road=%{y}<extra></extra>\",\"legendgroup\":\"Toronto\",\"marker\":{\"color\":\"#FF97FF\",\"symbol\":\"circle\"},\"mode\":\"markers\",\"name\":\"Toronto\",\"orientation\":\"v\",\"showlegend\":true,\"x\":[34504],\"xaxis\":\"x\",\"y\":[27762],\"yaxis\":\"y\",\"type\":\"scatter\"},{\"hovertemplate\":\"TEAM=Washington<br>2015_AVG_home=%{x}<br>2015_AVG_road=%{y}<extra></extra>\",\"legendgroup\":\"Washington\",\"marker\":{\"color\":\"#FECB52\",\"symbol\":\"circle\"},\"mode\":\"markers\",\"name\":\"Washington\",\"orientation\":\"v\",\"showlegend\":true,\"x\":[32343],\"xaxis\":\"x\",\"y\":[30230],\"yaxis\":\"y\",\"type\":\"scatter\"}],                        {\"template\":{\"data\":{\"bar\":[{\"error_x\":{\"color\":\"#2a3f5f\"},\"error_y\":{\"color\":\"#2a3f5f\"},\"marker\":{\"line\":{\"color\":\"#E5ECF6\",\"width\":0.5},\"pattern\":{\"fillmode\":\"overlay\",\"size\":10,\"solidity\":0.2}},\"type\":\"bar\"}],\"barpolar\":[{\"marker\":{\"line\":{\"color\":\"#E5ECF6\",\"width\":0.5},\"pattern\":{\"fillmode\":\"overlay\",\"size\":10,\"solidity\":0.2}},\"type\":\"barpolar\"}],\"carpet\":[{\"aaxis\":{\"endlinecolor\":\"#2a3f5f\",\"gridcolor\":\"white\",\"linecolor\":\"white\",\"minorgridcolor\":\"white\",\"startlinecolor\":\"#2a3f5f\"},\"baxis\":{\"endlinecolor\":\"#2a3f5f\",\"gridcolor\":\"white\",\"linecolor\":\"white\",\"minorgridcolor\":\"white\",\"startlinecolor\":\"#2a3f5f\"},\"type\":\"carpet\"}],\"choropleth\":[{\"colorbar\":{\"outlinewidth\":0,\"ticks\":\"\"},\"type\":\"choropleth\"}],\"contour\":[{\"colorbar\":{\"outlinewidth\":0,\"ticks\":\"\"},\"colorscale\":[[0.0,\"#0d0887\"],[0.1111111111111111,\"#46039f\"],[0.2222222222222222,\"#7201a8\"],[0.3333333333333333,\"#9c179e\"],[0.4444444444444444,\"#bd3786\"],[0.5555555555555556,\"#d8576b\"],[0.6666666666666666,\"#ed7953\"],[0.7777777777777778,\"#fb9f3a\"],[0.8888888888888888,\"#fdca26\"],[1.0,\"#f0f921\"]],\"type\":\"contour\"}],\"contourcarpet\":[{\"colorbar\":{\"outlinewidth\":0,\"ticks\":\"\"},\"type\":\"contourcarpet\"}],\"heatmap\":[{\"colorbar\":{\"outlinewidth\":0,\"ticks\":\"\"},\"colorscale\":[[0.0,\"#0d0887\"],[0.1111111111111111,\"#46039f\"],[0.2222222222222222,\"#7201a8\"],[0.3333333333333333,\"#9c179e\"],[0.4444444444444444,\"#bd3786\"],[0.5555555555555556,\"#d8576b\"],[0.6666666666666666,\"#ed7953\"],[0.7777777777777778,\"#fb9f3a\"],[0.8888888888888888,\"#fdca26\"],[1.0,\"#f0f921\"]],\"type\":\"heatmap\"}],\"heatmapgl\":[{\"colorbar\":{\"outlinewidth\":0,\"ticks\":\"\"},\"colorscale\":[[0.0,\"#0d0887\"],[0.1111111111111111,\"#46039f\"],[0.2222222222222222,\"#7201a8\"],[0.3333333333333333,\"#9c179e\"],[0.4444444444444444,\"#bd3786\"],[0.5555555555555556,\"#d8576b\"],[0.6666666666666666,\"#ed7953\"],[0.7777777777777778,\"#fb9f3a\"],[0.8888888888888888,\"#fdca26\"],[1.0,\"#f0f921\"]],\"type\":\"heatmapgl\"}],\"histogram\":[{\"marker\":{\"pattern\":{\"fillmode\":\"overlay\",\"size\":10,\"solidity\":0.2}},\"type\":\"histogram\"}],\"histogram2d\":[{\"colorbar\":{\"outlinewidth\":0,\"ticks\":\"\"},\"colorscale\":[[0.0,\"#0d0887\"],[0.1111111111111111,\"#46039f\"],[0.2222222222222222,\"#7201a8\"],[0.3333333333333333,\"#9c179e\"],[0.4444444444444444,\"#bd3786\"],[0.5555555555555556,\"#d8576b\"],[0.6666666666666666,\"#ed7953\"],[0.7777777777777778,\"#fb9f3a\"],[0.8888888888888888,\"#fdca26\"],[1.0,\"#f0f921\"]],\"type\":\"histogram2d\"}],\"histogram2dcontour\":[{\"colorbar\":{\"outlinewidth\":0,\"ticks\":\"\"},\"colorscale\":[[0.0,\"#0d0887\"],[0.1111111111111111,\"#46039f\"],[0.2222222222222222,\"#7201a8\"],[0.3333333333333333,\"#9c179e\"],[0.4444444444444444,\"#bd3786\"],[0.5555555555555556,\"#d8576b\"],[0.6666666666666666,\"#ed7953\"],[0.7777777777777778,\"#fb9f3a\"],[0.8888888888888888,\"#fdca26\"],[1.0,\"#f0f921\"]],\"type\":\"histogram2dcontour\"}],\"mesh3d\":[{\"colorbar\":{\"outlinewidth\":0,\"ticks\":\"\"},\"type\":\"mesh3d\"}],\"parcoords\":[{\"line\":{\"colorbar\":{\"outlinewidth\":0,\"ticks\":\"\"}},\"type\":\"parcoords\"}],\"pie\":[{\"automargin\":true,\"type\":\"pie\"}],\"scatter\":[{\"marker\":{\"colorbar\":{\"outlinewidth\":0,\"ticks\":\"\"}},\"type\":\"scatter\"}],\"scatter3d\":[{\"line\":{\"colorbar\":{\"outlinewidth\":0,\"ticks\":\"\"}},\"marker\":{\"colorbar\":{\"outlinewidth\":0,\"ticks\":\"\"}},\"type\":\"scatter3d\"}],\"scattercarpet\":[{\"marker\":{\"colorbar\":{\"outlinewidth\":0,\"ticks\":\"\"}},\"type\":\"scattercarpet\"}],\"scattergeo\":[{\"marker\":{\"colorbar\":{\"outlinewidth\":0,\"ticks\":\"\"}},\"type\":\"scattergeo\"}],\"scattergl\":[{\"marker\":{\"colorbar\":{\"outlinewidth\":0,\"ticks\":\"\"}},\"type\":\"scattergl\"}],\"scattermapbox\":[{\"marker\":{\"colorbar\":{\"outlinewidth\":0,\"ticks\":\"\"}},\"type\":\"scattermapbox\"}],\"scatterpolar\":[{\"marker\":{\"colorbar\":{\"outlinewidth\":0,\"ticks\":\"\"}},\"type\":\"scatterpolar\"}],\"scatterpolargl\":[{\"marker\":{\"colorbar\":{\"outlinewidth\":0,\"ticks\":\"\"}},\"type\":\"scatterpolargl\"}],\"scatterternary\":[{\"marker\":{\"colorbar\":{\"outlinewidth\":0,\"ticks\":\"\"}},\"type\":\"scatterternary\"}],\"surface\":[{\"colorbar\":{\"outlinewidth\":0,\"ticks\":\"\"},\"colorscale\":[[0.0,\"#0d0887\"],[0.1111111111111111,\"#46039f\"],[0.2222222222222222,\"#7201a8\"],[0.3333333333333333,\"#9c179e\"],[0.4444444444444444,\"#bd3786\"],[0.5555555555555556,\"#d8576b\"],[0.6666666666666666,\"#ed7953\"],[0.7777777777777778,\"#fb9f3a\"],[0.8888888888888888,\"#fdca26\"],[1.0,\"#f0f921\"]],\"type\":\"surface\"}],\"table\":[{\"cells\":{\"fill\":{\"color\":\"#EBF0F8\"},\"line\":{\"color\":\"white\"}},\"header\":{\"fill\":{\"color\":\"#C8D4E3\"},\"line\":{\"color\":\"white\"}},\"type\":\"table\"}]},\"layout\":{\"annotationdefaults\":{\"arrowcolor\":\"#2a3f5f\",\"arrowhead\":0,\"arrowwidth\":1},\"autotypenumbers\":\"strict\",\"coloraxis\":{\"colorbar\":{\"outlinewidth\":0,\"ticks\":\"\"}},\"colorscale\":{\"diverging\":[[0,\"#8e0152\"],[0.1,\"#c51b7d\"],[0.2,\"#de77ae\"],[0.3,\"#f1b6da\"],[0.4,\"#fde0ef\"],[0.5,\"#f7f7f7\"],[0.6,\"#e6f5d0\"],[0.7,\"#b8e186\"],[0.8,\"#7fbc41\"],[0.9,\"#4d9221\"],[1,\"#276419\"]],\"sequential\":[[0.0,\"#0d0887\"],[0.1111111111111111,\"#46039f\"],[0.2222222222222222,\"#7201a8\"],[0.3333333333333333,\"#9c179e\"],[0.4444444444444444,\"#bd3786\"],[0.5555555555555556,\"#d8576b\"],[0.6666666666666666,\"#ed7953\"],[0.7777777777777778,\"#fb9f3a\"],[0.8888888888888888,\"#fdca26\"],[1.0,\"#f0f921\"]],\"sequentialminus\":[[0.0,\"#0d0887\"],[0.1111111111111111,\"#46039f\"],[0.2222222222222222,\"#7201a8\"],[0.3333333333333333,\"#9c179e\"],[0.4444444444444444,\"#bd3786\"],[0.5555555555555556,\"#d8576b\"],[0.6666666666666666,\"#ed7953\"],[0.7777777777777778,\"#fb9f3a\"],[0.8888888888888888,\"#fdca26\"],[1.0,\"#f0f921\"]]},\"colorway\":[\"#636efa\",\"#EF553B\",\"#00cc96\",\"#ab63fa\",\"#FFA15A\",\"#19d3f3\",\"#FF6692\",\"#B6E880\",\"#FF97FF\",\"#FECB52\"],\"font\":{\"color\":\"#2a3f5f\"},\"geo\":{\"bgcolor\":\"white\",\"lakecolor\":\"white\",\"landcolor\":\"#E5ECF6\",\"showlakes\":true,\"showland\":true,\"subunitcolor\":\"white\"},\"hoverlabel\":{\"align\":\"left\"},\"hovermode\":\"closest\",\"mapbox\":{\"style\":\"light\"},\"paper_bgcolor\":\"white\",\"plot_bgcolor\":\"#E5ECF6\",\"polar\":{\"angularaxis\":{\"gridcolor\":\"white\",\"linecolor\":\"white\",\"ticks\":\"\"},\"bgcolor\":\"#E5ECF6\",\"radialaxis\":{\"gridcolor\":\"white\",\"linecolor\":\"white\",\"ticks\":\"\"}},\"scene\":{\"xaxis\":{\"backgroundcolor\":\"#E5ECF6\",\"gridcolor\":\"white\",\"gridwidth\":2,\"linecolor\":\"white\",\"showbackground\":true,\"ticks\":\"\",\"zerolinecolor\":\"white\"},\"yaxis\":{\"backgroundcolor\":\"#E5ECF6\",\"gridcolor\":\"white\",\"gridwidth\":2,\"linecolor\":\"white\",\"showbackground\":true,\"ticks\":\"\",\"zerolinecolor\":\"white\"},\"zaxis\":{\"backgroundcolor\":\"#E5ECF6\",\"gridcolor\":\"white\",\"gridwidth\":2,\"linecolor\":\"white\",\"showbackground\":true,\"ticks\":\"\",\"zerolinecolor\":\"white\"}},\"shapedefaults\":{\"line\":{\"color\":\"#2a3f5f\"}},\"ternary\":{\"aaxis\":{\"gridcolor\":\"white\",\"linecolor\":\"white\",\"ticks\":\"\"},\"baxis\":{\"gridcolor\":\"white\",\"linecolor\":\"white\",\"ticks\":\"\"},\"bgcolor\":\"#E5ECF6\",\"caxis\":{\"gridcolor\":\"white\",\"linecolor\":\"white\",\"ticks\":\"\"}},\"title\":{\"x\":0.05},\"xaxis\":{\"automargin\":true,\"gridcolor\":\"white\",\"linecolor\":\"white\",\"ticks\":\"\",\"title\":{\"standoff\":15},\"zerolinecolor\":\"white\",\"zerolinewidth\":2},\"yaxis\":{\"automargin\":true,\"gridcolor\":\"white\",\"linecolor\":\"white\",\"ticks\":\"\",\"title\":{\"standoff\":15},\"zerolinecolor\":\"white\",\"zerolinewidth\":2}}},\"xaxis\":{\"anchor\":\"y\",\"domain\":[0.0,1.0],\"title\":{\"text\":\"2015_AVG_home\"}},\"yaxis\":{\"anchor\":\"x\",\"domain\":[0.0,1.0],\"title\":{\"text\":\"2015_AVG_road\"}},\"legend\":{\"title\":{\"text\":\"TEAM\"},\"tracegroupgap\":0},\"title\":{\"text\":\"2015\"}},                        {\"responsive\": true}                    ).then(function(){\n",
       "                            \n",
       "var gd = document.getElementById('b2cc6ebb-955a-4170-a021-98624ff52106');\n",
       "var x = new MutationObserver(function (mutations, observer) {{\n",
       "        var display = window.getComputedStyle(gd).display;\n",
       "        if (!display || display === 'none') {{\n",
       "            console.log([gd, 'removed!']);\n",
       "            Plotly.purge(gd);\n",
       "            observer.disconnect();\n",
       "        }}\n",
       "}});\n",
       "\n",
       "// Listen for the removal of the full notebook cells\n",
       "var notebookContainer = gd.closest('#notebook-container');\n",
       "if (notebookContainer) {{\n",
       "    x.observe(notebookContainer, {childList: true});\n",
       "}}\n",
       "\n",
       "// Listen for the clearing of the current output cell\n",
       "var outputEl = gd.closest('.output');\n",
       "if (outputEl) {{\n",
       "    x.observe(outputEl, {childList: true});\n",
       "}}\n",
       "\n",
       "                        })                };                });            </script>        </div>"
      ]
     },
     "metadata": {},
     "output_type": "display_data"
    }
   ],
   "source": [
    "fig2 = px.scatter(data_frame = home_road, x='2015_AVG_home', y='2015_AVG_road',color='TEAM',title='2015')\n",
    "fig2.show()\n",
    "fig2.write_html(\"2015.html\", full_html=False, include_plotlyjs='cdn')"
   ]
  },
  {
   "cell_type": "code",
   "execution_count": 66,
   "id": "6a92a087",
   "metadata": {},
   "outputs": [
    {
     "data": {
      "application/vnd.plotly.v1+json": {
       "config": {
        "plotlyServerURL": "https://plot.ly"
       },
       "data": [
        {
         "hovertemplate": "TEAM=Arizona<br>2012_AVG_home=%{x}<br>2012_AVG_road=%{y}<extra></extra>",
         "legendgroup": "Arizona",
         "marker": {
          "color": "#636efa",
          "symbol": "circle"
         },
         "mode": "markers",
         "name": "Arizona",
         "orientation": "v",
         "showlegend": true,
         "type": "scatter",
         "x": [
          26884
         ],
         "xaxis": "x",
         "y": [
          32292
         ],
         "yaxis": "y"
        },
        {
         "hovertemplate": "TEAM=Atlanta<br>2012_AVG_home=%{x}<br>2012_AVG_road=%{y}<extra></extra>",
         "legendgroup": "Atlanta",
         "marker": {
          "color": "#EF553B",
          "symbol": "circle"
         },
         "mode": "markers",
         "name": "Atlanta",
         "orientation": "v",
         "showlegend": true,
         "type": "scatter",
         "x": [
          29878
         ],
         "xaxis": "x",
         "y": [
          31936
         ],
         "yaxis": "y"
        },
        {
         "hovertemplate": "TEAM=Baltimore<br>2012_AVG_home=%{x}<br>2012_AVG_road=%{y}<extra></extra>",
         "legendgroup": "Baltimore",
         "marker": {
          "color": "#00cc96",
          "symbol": "circle"
         },
         "mode": "markers",
         "name": "Baltimore",
         "orientation": "v",
         "showlegend": true,
         "type": "scatter",
         "x": [
          26610
         ],
         "xaxis": "x",
         "y": [
          29549
         ],
         "yaxis": "y"
        },
        {
         "hovertemplate": "TEAM=Boston<br>2012_AVG_home=%{x}<br>2012_AVG_road=%{y}<extra></extra>",
         "legendgroup": "Boston",
         "marker": {
          "color": "#ab63fa",
          "symbol": "circle"
         },
         "mode": "markers",
         "name": "Boston",
         "orientation": "v",
         "showlegend": true,
         "type": "scatter",
         "x": [
          37567
         ],
         "xaxis": "x",
         "y": [
          31038
         ],
         "yaxis": "y"
        },
        {
         "hovertemplate": "TEAM=Chicago Cubs<br>2012_AVG_home=%{x}<br>2012_AVG_road=%{y}<extra></extra>",
         "legendgroup": "Chicago Cubs",
         "marker": {
          "color": "#FFA15A",
          "symbol": "circle"
         },
         "mode": "markers",
         "name": "Chicago Cubs",
         "orientation": "v",
         "showlegend": true,
         "type": "scatter",
         "x": [
          35589
         ],
         "xaxis": "x",
         "y": [
          32485
         ],
         "yaxis": "y"
        },
        {
         "hovertemplate": "TEAM=Chicago White Sox<br>2012_AVG_home=%{x}<br>2012_AVG_road=%{y}<extra></extra>",
         "legendgroup": "Chicago White Sox",
         "marker": {
          "color": "#19d3f3",
          "symbol": "circle"
         },
         "mode": "markers",
         "name": "Chicago White Sox",
         "orientation": "v",
         "showlegend": true,
         "type": "scatter",
         "x": [
          24271
         ],
         "xaxis": "x",
         "y": [
          29983
         ],
         "yaxis": "y"
        },
        {
         "hovertemplate": "TEAM=Cincinnati<br>2012_AVG_home=%{x}<br>2012_AVG_road=%{y}<extra></extra>",
         "legendgroup": "Cincinnati",
         "marker": {
          "color": "#FF6692",
          "symbol": "circle"
         },
         "mode": "markers",
         "name": "Cincinnati",
         "orientation": "v",
         "showlegend": true,
         "type": "scatter",
         "x": [
          28978
         ],
         "xaxis": "x",
         "y": [
          30784
         ],
         "yaxis": "y"
        },
        {
         "hovertemplate": "TEAM=Cleveland<br>2012_AVG_home=%{x}<br>2012_AVG_road=%{y}<extra></extra>",
         "legendgroup": "Cleveland",
         "marker": {
          "color": "#B6E880",
          "symbol": "circle"
         },
         "mode": "markers",
         "name": "Cleveland",
         "orientation": "v",
         "showlegend": true,
         "type": "scatter",
         "x": [
          19797
         ],
         "xaxis": "x",
         "y": [
          28285
         ],
         "yaxis": "y"
        },
        {
         "hovertemplate": "TEAM=Colorado<br>2012_AVG_home=%{x}<br>2012_AVG_road=%{y}<extra></extra>",
         "legendgroup": "Colorado",
         "marker": {
          "color": "#FF97FF",
          "symbol": "circle"
         },
         "mode": "markers",
         "name": "Colorado",
         "orientation": "v",
         "showlegend": true,
         "type": "scatter",
         "x": [
          32474
         ],
         "xaxis": "x",
         "y": [
          32301
         ],
         "yaxis": "y"
        },
        {
         "hovertemplate": "TEAM=Detroit<br>2012_AVG_home=%{x}<br>2012_AVG_road=%{y}<extra></extra>",
         "legendgroup": "Detroit",
         "marker": {
          "color": "#FECB52",
          "symbol": "circle"
         },
         "mode": "markers",
         "name": "Detroit",
         "orientation": "v",
         "showlegend": true,
         "type": "scatter",
         "x": [
          37383
         ],
         "xaxis": "x",
         "y": [
          30539
         ],
         "yaxis": "y"
        },
        {
         "hovertemplate": "TEAM=Houston<br>2012_AVG_home=%{x}<br>2012_AVG_road=%{y}<extra></extra>",
         "legendgroup": "Houston",
         "marker": {
          "color": "#636efa",
          "symbol": "circle"
         },
         "mode": "markers",
         "name": "Houston",
         "orientation": "v",
         "showlegend": true,
         "type": "scatter",
         "x": [
          19848
         ],
         "xaxis": "x",
         "y": [
          31119
         ],
         "yaxis": "y"
        },
        {
         "hovertemplate": "TEAM=Kansas City<br>2012_AVG_home=%{x}<br>2012_AVG_road=%{y}<extra></extra>",
         "legendgroup": "Kansas City",
         "marker": {
          "color": "#EF553B",
          "symbol": "circle"
         },
         "mode": "markers",
         "name": "Kansas City",
         "orientation": "v",
         "showlegend": true,
         "type": "scatter",
         "x": [
          21748
         ],
         "xaxis": "x",
         "y": [
          27447
         ],
         "yaxis": "y"
        },
        {
         "hovertemplate": "TEAM=LA Angels<br>2012_AVG_home=%{x}<br>2012_AVG_road=%{y}<extra></extra>",
         "legendgroup": "LA Angels",
         "marker": {
          "color": "#00cc96",
          "symbol": "circle"
         },
         "mode": "markers",
         "name": "LA Angels",
         "orientation": "v",
         "showlegend": true,
         "type": "scatter",
         "x": [
          37799
         ],
         "xaxis": "x",
         "y": [
          30831
         ],
         "yaxis": "y"
        },
        {
         "hovertemplate": "TEAM=LA Dodgers<br>2012_AVG_home=%{x}<br>2012_AVG_road=%{y}<extra></extra>",
         "legendgroup": "LA Dodgers",
         "marker": {
          "color": "#ab63fa",
          "symbol": "circle"
         },
         "mode": "markers",
         "name": "LA Dodgers",
         "orientation": "v",
         "showlegend": true,
         "type": "scatter",
         "x": [
          41040
         ],
         "xaxis": "x",
         "y": [
          32640
         ],
         "yaxis": "y"
        },
        {
         "hovertemplate": "TEAM=Miami<br>2012_AVG_home=%{x}<br>2012_AVG_road=%{y}<extra></extra>",
         "legendgroup": "Miami",
         "marker": {
          "color": "#FFA15A",
          "symbol": "circle"
         },
         "mode": "markers",
         "name": "Miami",
         "orientation": "v",
         "showlegend": true,
         "type": "scatter",
         "x": [
          27400
         ],
         "xaxis": "x",
         "y": [
          30986
         ],
         "yaxis": "y"
        },
        {
         "hovertemplate": "TEAM=Milwaukee<br>2012_AVG_home=%{x}<br>2012_AVG_road=%{y}<extra></extra>",
         "legendgroup": "Milwaukee",
         "marker": {
          "color": "#19d3f3",
          "symbol": "circle"
         },
         "mode": "markers",
         "name": "Milwaukee",
         "orientation": "v",
         "showlegend": true,
         "type": "scatter",
         "x": [
          34955
         ],
         "xaxis": "x",
         "y": [
          30580
         ],
         "yaxis": "y"
        },
        {
         "hovertemplate": "TEAM=Minnesota<br>2012_AVG_home=%{x}<br>2012_AVG_road=%{y}<extra></extra>",
         "legendgroup": "Minnesota",
         "marker": {
          "color": "#FF6692",
          "symbol": "circle"
         },
         "mode": "markers",
         "name": "Minnesota",
         "orientation": "v",
         "showlegend": true,
         "type": "scatter",
         "x": [
          34275
         ],
         "xaxis": "x",
         "y": [
          28306
         ],
         "yaxis": "y"
        },
        {
         "hovertemplate": "TEAM=NY Mets<br>2012_AVG_home=%{x}<br>2012_AVG_road=%{y}<extra></extra>",
         "legendgroup": "NY Mets",
         "marker": {
          "color": "#B6E880",
          "symbol": "circle"
         },
         "mode": "markers",
         "name": "NY Mets",
         "orientation": "v",
         "showlegend": true,
         "type": "scatter",
         "x": [
          28035
         ],
         "xaxis": "x",
         "y": [
          33720
         ],
         "yaxis": "y"
        },
        {
         "hovertemplate": "TEAM=NY Yankees<br>2012_AVG_home=%{x}<br>2012_AVG_road=%{y}<extra></extra>",
         "legendgroup": "NY Yankees",
         "marker": {
          "color": "#FF97FF",
          "symbol": "circle"
         },
         "mode": "markers",
         "name": "NY Yankees",
         "orientation": "v",
         "showlegend": true,
         "type": "scatter",
         "x": [
          43733
         ],
         "xaxis": "x",
         "y": [
          34154
         ],
         "yaxis": "y"
        },
        {
         "hovertemplate": "TEAM=Oakland<br>2012_AVG_home=%{x}<br>2012_AVG_road=%{y}<extra></extra>",
         "legendgroup": "Oakland",
         "marker": {
          "color": "#FECB52",
          "symbol": "circle"
         },
         "mode": "markers",
         "name": "Oakland",
         "orientation": "v",
         "showlegend": true,
         "type": "scatter",
         "x": [
          20728
         ],
         "xaxis": "x",
         "y": [
          29978
         ],
         "yaxis": "y"
        },
        {
         "hovertemplate": "TEAM=Philadelphia<br>2012_AVG_home=%{x}<br>2012_AVG_road=%{y}<extra></extra>",
         "legendgroup": "Philadelphia",
         "marker": {
          "color": "#636efa",
          "symbol": "circle"
         },
         "mode": "markers",
         "name": "Philadelphia",
         "orientation": "v",
         "showlegend": true,
         "type": "scatter",
         "x": [
          44021
         ],
         "xaxis": "x",
         "y": [
          31749
         ],
         "yaxis": "y"
        },
        {
         "hovertemplate": "TEAM=Pittsburgh<br>2012_AVG_home=%{x}<br>2012_AVG_road=%{y}<extra></extra>",
         "legendgroup": "Pittsburgh",
         "marker": {
          "color": "#EF553B",
          "symbol": "circle"
         },
         "mode": "markers",
         "name": "Pittsburgh",
         "orientation": "v",
         "showlegend": true,
         "type": "scatter",
         "x": [
          26148
         ],
         "xaxis": "x",
         "y": [
          31307
         ],
         "yaxis": "y"
        },
        {
         "hovertemplate": "TEAM=San Diego<br>2012_AVG_home=%{x}<br>2012_AVG_road=%{y}<extra></extra>",
         "legendgroup": "San Diego",
         "marker": {
          "color": "#00cc96",
          "symbol": "circle"
         },
         "mode": "markers",
         "name": "San Diego",
         "orientation": "v",
         "showlegend": true,
         "type": "scatter",
         "x": [
          26218
         ],
         "xaxis": "x",
         "y": [
          31422
         ],
         "yaxis": "y"
        },
        {
         "hovertemplate": "TEAM=San Francisco<br>2012_AVG_home=%{x}<br>2012_AVG_road=%{y}<extra></extra>",
         "legendgroup": "San Francisco",
         "marker": {
          "color": "#ab63fa",
          "symbol": "circle"
         },
         "mode": "markers",
         "name": "San Francisco",
         "orientation": "v",
         "showlegend": true,
         "type": "scatter",
         "x": [
          41695
         ],
         "xaxis": "x",
         "y": [
          32889
         ],
         "yaxis": "y"
        },
        {
         "hovertemplate": "TEAM=Seattle<br>2012_AVG_home=%{x}<br>2012_AVG_road=%{y}<extra></extra>",
         "legendgroup": "Seattle",
         "marker": {
          "color": "#FFA15A",
          "symbol": "circle"
         },
         "mode": "markers",
         "name": "Seattle",
         "orientation": "v",
         "showlegend": true,
         "type": "scatter",
         "x": [
          21258
         ],
         "xaxis": "x",
         "y": [
          28262
         ],
         "yaxis": "y"
        },
        {
         "hovertemplate": "TEAM=St. Louis<br>2012_AVG_home=%{x}<br>2012_AVG_road=%{y}<extra></extra>",
         "legendgroup": "St. Louis",
         "marker": {
          "color": "#19d3f3",
          "symbol": "circle"
         },
         "mode": "markers",
         "name": "St. Louis",
         "orientation": "v",
         "showlegend": true,
         "type": "scatter",
         "x": [
          40272
         ],
         "xaxis": "x",
         "y": [
          31436
         ],
         "yaxis": "y"
        },
        {
         "hovertemplate": "TEAM=Tampa Bay<br>2012_AVG_home=%{x}<br>2012_AVG_road=%{y}<extra></extra>",
         "legendgroup": "Tampa Bay",
         "marker": {
          "color": "#FF6692",
          "symbol": "circle"
         },
         "mode": "markers",
         "name": "Tampa Bay",
         "orientation": "v",
         "showlegend": true,
         "type": "scatter",
         "x": [
          19255
         ],
         "xaxis": "x",
         "y": [
          30403
         ],
         "yaxis": "y"
        },
        {
         "hovertemplate": "TEAM=Texas<br>2012_AVG_home=%{x}<br>2012_AVG_road=%{y}<extra></extra>",
         "legendgroup": "Texas",
         "marker": {
          "color": "#B6E880",
          "symbol": "circle"
         },
         "mode": "markers",
         "name": "Texas",
         "orientation": "v",
         "showlegend": true,
         "type": "scatter",
         "x": [
          42719
         ],
         "xaxis": "x",
         "y": [
          28209
         ],
         "yaxis": "y"
        },
        {
         "hovertemplate": "TEAM=Toronto<br>2012_AVG_home=%{x}<br>2012_AVG_road=%{y}<extra></extra>",
         "legendgroup": "Toronto",
         "marker": {
          "color": "#FF97FF",
          "symbol": "circle"
         },
         "mode": "markers",
         "name": "Toronto",
         "orientation": "v",
         "showlegend": true,
         "type": "scatter",
         "x": [
          25921
         ],
         "xaxis": "x",
         "y": [
          29075
         ],
         "yaxis": "y"
        },
        {
         "hovertemplate": "TEAM=Washington<br>2012_AVG_home=%{x}<br>2012_AVG_road=%{y}<extra></extra>",
         "legendgroup": "Washington",
         "marker": {
          "color": "#FECB52",
          "symbol": "circle"
         },
         "mode": "markers",
         "name": "Washington",
         "orientation": "v",
         "showlegend": true,
         "type": "scatter",
         "x": [
          30010
         ],
         "xaxis": "x",
         "y": [
          33116
         ],
         "yaxis": "y"
        }
       ],
       "layout": {
        "legend": {
         "title": {
          "text": "TEAM"
         },
         "tracegroupgap": 0
        },
        "template": {
         "data": {
          "bar": [
           {
            "error_x": {
             "color": "#2a3f5f"
            },
            "error_y": {
             "color": "#2a3f5f"
            },
            "marker": {
             "line": {
              "color": "#E5ECF6",
              "width": 0.5
             },
             "pattern": {
              "fillmode": "overlay",
              "size": 10,
              "solidity": 0.2
             }
            },
            "type": "bar"
           }
          ],
          "barpolar": [
           {
            "marker": {
             "line": {
              "color": "#E5ECF6",
              "width": 0.5
             },
             "pattern": {
              "fillmode": "overlay",
              "size": 10,
              "solidity": 0.2
             }
            },
            "type": "barpolar"
           }
          ],
          "carpet": [
           {
            "aaxis": {
             "endlinecolor": "#2a3f5f",
             "gridcolor": "white",
             "linecolor": "white",
             "minorgridcolor": "white",
             "startlinecolor": "#2a3f5f"
            },
            "baxis": {
             "endlinecolor": "#2a3f5f",
             "gridcolor": "white",
             "linecolor": "white",
             "minorgridcolor": "white",
             "startlinecolor": "#2a3f5f"
            },
            "type": "carpet"
           }
          ],
          "choropleth": [
           {
            "colorbar": {
             "outlinewidth": 0,
             "ticks": ""
            },
            "type": "choropleth"
           }
          ],
          "contour": [
           {
            "colorbar": {
             "outlinewidth": 0,
             "ticks": ""
            },
            "colorscale": [
             [
              0,
              "#0d0887"
             ],
             [
              0.1111111111111111,
              "#46039f"
             ],
             [
              0.2222222222222222,
              "#7201a8"
             ],
             [
              0.3333333333333333,
              "#9c179e"
             ],
             [
              0.4444444444444444,
              "#bd3786"
             ],
             [
              0.5555555555555556,
              "#d8576b"
             ],
             [
              0.6666666666666666,
              "#ed7953"
             ],
             [
              0.7777777777777778,
              "#fb9f3a"
             ],
             [
              0.8888888888888888,
              "#fdca26"
             ],
             [
              1,
              "#f0f921"
             ]
            ],
            "type": "contour"
           }
          ],
          "contourcarpet": [
           {
            "colorbar": {
             "outlinewidth": 0,
             "ticks": ""
            },
            "type": "contourcarpet"
           }
          ],
          "heatmap": [
           {
            "colorbar": {
             "outlinewidth": 0,
             "ticks": ""
            },
            "colorscale": [
             [
              0,
              "#0d0887"
             ],
             [
              0.1111111111111111,
              "#46039f"
             ],
             [
              0.2222222222222222,
              "#7201a8"
             ],
             [
              0.3333333333333333,
              "#9c179e"
             ],
             [
              0.4444444444444444,
              "#bd3786"
             ],
             [
              0.5555555555555556,
              "#d8576b"
             ],
             [
              0.6666666666666666,
              "#ed7953"
             ],
             [
              0.7777777777777778,
              "#fb9f3a"
             ],
             [
              0.8888888888888888,
              "#fdca26"
             ],
             [
              1,
              "#f0f921"
             ]
            ],
            "type": "heatmap"
           }
          ],
          "heatmapgl": [
           {
            "colorbar": {
             "outlinewidth": 0,
             "ticks": ""
            },
            "colorscale": [
             [
              0,
              "#0d0887"
             ],
             [
              0.1111111111111111,
              "#46039f"
             ],
             [
              0.2222222222222222,
              "#7201a8"
             ],
             [
              0.3333333333333333,
              "#9c179e"
             ],
             [
              0.4444444444444444,
              "#bd3786"
             ],
             [
              0.5555555555555556,
              "#d8576b"
             ],
             [
              0.6666666666666666,
              "#ed7953"
             ],
             [
              0.7777777777777778,
              "#fb9f3a"
             ],
             [
              0.8888888888888888,
              "#fdca26"
             ],
             [
              1,
              "#f0f921"
             ]
            ],
            "type": "heatmapgl"
           }
          ],
          "histogram": [
           {
            "marker": {
             "pattern": {
              "fillmode": "overlay",
              "size": 10,
              "solidity": 0.2
             }
            },
            "type": "histogram"
           }
          ],
          "histogram2d": [
           {
            "colorbar": {
             "outlinewidth": 0,
             "ticks": ""
            },
            "colorscale": [
             [
              0,
              "#0d0887"
             ],
             [
              0.1111111111111111,
              "#46039f"
             ],
             [
              0.2222222222222222,
              "#7201a8"
             ],
             [
              0.3333333333333333,
              "#9c179e"
             ],
             [
              0.4444444444444444,
              "#bd3786"
             ],
             [
              0.5555555555555556,
              "#d8576b"
             ],
             [
              0.6666666666666666,
              "#ed7953"
             ],
             [
              0.7777777777777778,
              "#fb9f3a"
             ],
             [
              0.8888888888888888,
              "#fdca26"
             ],
             [
              1,
              "#f0f921"
             ]
            ],
            "type": "histogram2d"
           }
          ],
          "histogram2dcontour": [
           {
            "colorbar": {
             "outlinewidth": 0,
             "ticks": ""
            },
            "colorscale": [
             [
              0,
              "#0d0887"
             ],
             [
              0.1111111111111111,
              "#46039f"
             ],
             [
              0.2222222222222222,
              "#7201a8"
             ],
             [
              0.3333333333333333,
              "#9c179e"
             ],
             [
              0.4444444444444444,
              "#bd3786"
             ],
             [
              0.5555555555555556,
              "#d8576b"
             ],
             [
              0.6666666666666666,
              "#ed7953"
             ],
             [
              0.7777777777777778,
              "#fb9f3a"
             ],
             [
              0.8888888888888888,
              "#fdca26"
             ],
             [
              1,
              "#f0f921"
             ]
            ],
            "type": "histogram2dcontour"
           }
          ],
          "mesh3d": [
           {
            "colorbar": {
             "outlinewidth": 0,
             "ticks": ""
            },
            "type": "mesh3d"
           }
          ],
          "parcoords": [
           {
            "line": {
             "colorbar": {
              "outlinewidth": 0,
              "ticks": ""
             }
            },
            "type": "parcoords"
           }
          ],
          "pie": [
           {
            "automargin": true,
            "type": "pie"
           }
          ],
          "scatter": [
           {
            "marker": {
             "colorbar": {
              "outlinewidth": 0,
              "ticks": ""
             }
            },
            "type": "scatter"
           }
          ],
          "scatter3d": [
           {
            "line": {
             "colorbar": {
              "outlinewidth": 0,
              "ticks": ""
             }
            },
            "marker": {
             "colorbar": {
              "outlinewidth": 0,
              "ticks": ""
             }
            },
            "type": "scatter3d"
           }
          ],
          "scattercarpet": [
           {
            "marker": {
             "colorbar": {
              "outlinewidth": 0,
              "ticks": ""
             }
            },
            "type": "scattercarpet"
           }
          ],
          "scattergeo": [
           {
            "marker": {
             "colorbar": {
              "outlinewidth": 0,
              "ticks": ""
             }
            },
            "type": "scattergeo"
           }
          ],
          "scattergl": [
           {
            "marker": {
             "colorbar": {
              "outlinewidth": 0,
              "ticks": ""
             }
            },
            "type": "scattergl"
           }
          ],
          "scattermapbox": [
           {
            "marker": {
             "colorbar": {
              "outlinewidth": 0,
              "ticks": ""
             }
            },
            "type": "scattermapbox"
           }
          ],
          "scatterpolar": [
           {
            "marker": {
             "colorbar": {
              "outlinewidth": 0,
              "ticks": ""
             }
            },
            "type": "scatterpolar"
           }
          ],
          "scatterpolargl": [
           {
            "marker": {
             "colorbar": {
              "outlinewidth": 0,
              "ticks": ""
             }
            },
            "type": "scatterpolargl"
           }
          ],
          "scatterternary": [
           {
            "marker": {
             "colorbar": {
              "outlinewidth": 0,
              "ticks": ""
             }
            },
            "type": "scatterternary"
           }
          ],
          "surface": [
           {
            "colorbar": {
             "outlinewidth": 0,
             "ticks": ""
            },
            "colorscale": [
             [
              0,
              "#0d0887"
             ],
             [
              0.1111111111111111,
              "#46039f"
             ],
             [
              0.2222222222222222,
              "#7201a8"
             ],
             [
              0.3333333333333333,
              "#9c179e"
             ],
             [
              0.4444444444444444,
              "#bd3786"
             ],
             [
              0.5555555555555556,
              "#d8576b"
             ],
             [
              0.6666666666666666,
              "#ed7953"
             ],
             [
              0.7777777777777778,
              "#fb9f3a"
             ],
             [
              0.8888888888888888,
              "#fdca26"
             ],
             [
              1,
              "#f0f921"
             ]
            ],
            "type": "surface"
           }
          ],
          "table": [
           {
            "cells": {
             "fill": {
              "color": "#EBF0F8"
             },
             "line": {
              "color": "white"
             }
            },
            "header": {
             "fill": {
              "color": "#C8D4E3"
             },
             "line": {
              "color": "white"
             }
            },
            "type": "table"
           }
          ]
         },
         "layout": {
          "annotationdefaults": {
           "arrowcolor": "#2a3f5f",
           "arrowhead": 0,
           "arrowwidth": 1
          },
          "autotypenumbers": "strict",
          "coloraxis": {
           "colorbar": {
            "outlinewidth": 0,
            "ticks": ""
           }
          },
          "colorscale": {
           "diverging": [
            [
             0,
             "#8e0152"
            ],
            [
             0.1,
             "#c51b7d"
            ],
            [
             0.2,
             "#de77ae"
            ],
            [
             0.3,
             "#f1b6da"
            ],
            [
             0.4,
             "#fde0ef"
            ],
            [
             0.5,
             "#f7f7f7"
            ],
            [
             0.6,
             "#e6f5d0"
            ],
            [
             0.7,
             "#b8e186"
            ],
            [
             0.8,
             "#7fbc41"
            ],
            [
             0.9,
             "#4d9221"
            ],
            [
             1,
             "#276419"
            ]
           ],
           "sequential": [
            [
             0,
             "#0d0887"
            ],
            [
             0.1111111111111111,
             "#46039f"
            ],
            [
             0.2222222222222222,
             "#7201a8"
            ],
            [
             0.3333333333333333,
             "#9c179e"
            ],
            [
             0.4444444444444444,
             "#bd3786"
            ],
            [
             0.5555555555555556,
             "#d8576b"
            ],
            [
             0.6666666666666666,
             "#ed7953"
            ],
            [
             0.7777777777777778,
             "#fb9f3a"
            ],
            [
             0.8888888888888888,
             "#fdca26"
            ],
            [
             1,
             "#f0f921"
            ]
           ],
           "sequentialminus": [
            [
             0,
             "#0d0887"
            ],
            [
             0.1111111111111111,
             "#46039f"
            ],
            [
             0.2222222222222222,
             "#7201a8"
            ],
            [
             0.3333333333333333,
             "#9c179e"
            ],
            [
             0.4444444444444444,
             "#bd3786"
            ],
            [
             0.5555555555555556,
             "#d8576b"
            ],
            [
             0.6666666666666666,
             "#ed7953"
            ],
            [
             0.7777777777777778,
             "#fb9f3a"
            ],
            [
             0.8888888888888888,
             "#fdca26"
            ],
            [
             1,
             "#f0f921"
            ]
           ]
          },
          "colorway": [
           "#636efa",
           "#EF553B",
           "#00cc96",
           "#ab63fa",
           "#FFA15A",
           "#19d3f3",
           "#FF6692",
           "#B6E880",
           "#FF97FF",
           "#FECB52"
          ],
          "font": {
           "color": "#2a3f5f"
          },
          "geo": {
           "bgcolor": "white",
           "lakecolor": "white",
           "landcolor": "#E5ECF6",
           "showlakes": true,
           "showland": true,
           "subunitcolor": "white"
          },
          "hoverlabel": {
           "align": "left"
          },
          "hovermode": "closest",
          "mapbox": {
           "style": "light"
          },
          "paper_bgcolor": "white",
          "plot_bgcolor": "#E5ECF6",
          "polar": {
           "angularaxis": {
            "gridcolor": "white",
            "linecolor": "white",
            "ticks": ""
           },
           "bgcolor": "#E5ECF6",
           "radialaxis": {
            "gridcolor": "white",
            "linecolor": "white",
            "ticks": ""
           }
          },
          "scene": {
           "xaxis": {
            "backgroundcolor": "#E5ECF6",
            "gridcolor": "white",
            "gridwidth": 2,
            "linecolor": "white",
            "showbackground": true,
            "ticks": "",
            "zerolinecolor": "white"
           },
           "yaxis": {
            "backgroundcolor": "#E5ECF6",
            "gridcolor": "white",
            "gridwidth": 2,
            "linecolor": "white",
            "showbackground": true,
            "ticks": "",
            "zerolinecolor": "white"
           },
           "zaxis": {
            "backgroundcolor": "#E5ECF6",
            "gridcolor": "white",
            "gridwidth": 2,
            "linecolor": "white",
            "showbackground": true,
            "ticks": "",
            "zerolinecolor": "white"
           }
          },
          "shapedefaults": {
           "line": {
            "color": "#2a3f5f"
           }
          },
          "ternary": {
           "aaxis": {
            "gridcolor": "white",
            "linecolor": "white",
            "ticks": ""
           },
           "baxis": {
            "gridcolor": "white",
            "linecolor": "white",
            "ticks": ""
           },
           "bgcolor": "#E5ECF6",
           "caxis": {
            "gridcolor": "white",
            "linecolor": "white",
            "ticks": ""
           }
          },
          "title": {
           "x": 0.05
          },
          "xaxis": {
           "automargin": true,
           "gridcolor": "white",
           "linecolor": "white",
           "ticks": "",
           "title": {
            "standoff": 15
           },
           "zerolinecolor": "white",
           "zerolinewidth": 2
          },
          "yaxis": {
           "automargin": true,
           "gridcolor": "white",
           "linecolor": "white",
           "ticks": "",
           "title": {
            "standoff": 15
           },
           "zerolinecolor": "white",
           "zerolinewidth": 2
          }
         }
        },
        "title": {
         "text": "2012"
        },
        "xaxis": {
         "anchor": "y",
         "domain": [
          0,
          1
         ],
         "title": {
          "text": "2012_AVG_home"
         }
        },
        "yaxis": {
         "anchor": "x",
         "domain": [
          0,
          1
         ],
         "title": {
          "text": "2012_AVG_road"
         }
        }
       }
      },
      "text/html": [
       "<div>                            <div id=\"b2fd6562-fd20-41a2-808a-5d791dd741a4\" class=\"plotly-graph-div\" style=\"height:525px; width:100%;\"></div>            <script type=\"text/javascript\">                require([\"plotly\"], function(Plotly) {                    window.PLOTLYENV=window.PLOTLYENV || {};                                    if (document.getElementById(\"b2fd6562-fd20-41a2-808a-5d791dd741a4\")) {                    Plotly.newPlot(                        \"b2fd6562-fd20-41a2-808a-5d791dd741a4\",                        [{\"hovertemplate\":\"TEAM=Arizona<br>2012_AVG_home=%{x}<br>2012_AVG_road=%{y}<extra></extra>\",\"legendgroup\":\"Arizona\",\"marker\":{\"color\":\"#636efa\",\"symbol\":\"circle\"},\"mode\":\"markers\",\"name\":\"Arizona\",\"orientation\":\"v\",\"showlegend\":true,\"x\":[26884],\"xaxis\":\"x\",\"y\":[32292],\"yaxis\":\"y\",\"type\":\"scatter\"},{\"hovertemplate\":\"TEAM=Atlanta<br>2012_AVG_home=%{x}<br>2012_AVG_road=%{y}<extra></extra>\",\"legendgroup\":\"Atlanta\",\"marker\":{\"color\":\"#EF553B\",\"symbol\":\"circle\"},\"mode\":\"markers\",\"name\":\"Atlanta\",\"orientation\":\"v\",\"showlegend\":true,\"x\":[29878],\"xaxis\":\"x\",\"y\":[31936],\"yaxis\":\"y\",\"type\":\"scatter\"},{\"hovertemplate\":\"TEAM=Baltimore<br>2012_AVG_home=%{x}<br>2012_AVG_road=%{y}<extra></extra>\",\"legendgroup\":\"Baltimore\",\"marker\":{\"color\":\"#00cc96\",\"symbol\":\"circle\"},\"mode\":\"markers\",\"name\":\"Baltimore\",\"orientation\":\"v\",\"showlegend\":true,\"x\":[26610],\"xaxis\":\"x\",\"y\":[29549],\"yaxis\":\"y\",\"type\":\"scatter\"},{\"hovertemplate\":\"TEAM=Boston<br>2012_AVG_home=%{x}<br>2012_AVG_road=%{y}<extra></extra>\",\"legendgroup\":\"Boston\",\"marker\":{\"color\":\"#ab63fa\",\"symbol\":\"circle\"},\"mode\":\"markers\",\"name\":\"Boston\",\"orientation\":\"v\",\"showlegend\":true,\"x\":[37567],\"xaxis\":\"x\",\"y\":[31038],\"yaxis\":\"y\",\"type\":\"scatter\"},{\"hovertemplate\":\"TEAM=Chicago Cubs<br>2012_AVG_home=%{x}<br>2012_AVG_road=%{y}<extra></extra>\",\"legendgroup\":\"Chicago Cubs\",\"marker\":{\"color\":\"#FFA15A\",\"symbol\":\"circle\"},\"mode\":\"markers\",\"name\":\"Chicago Cubs\",\"orientation\":\"v\",\"showlegend\":true,\"x\":[35589],\"xaxis\":\"x\",\"y\":[32485],\"yaxis\":\"y\",\"type\":\"scatter\"},{\"hovertemplate\":\"TEAM=Chicago White Sox<br>2012_AVG_home=%{x}<br>2012_AVG_road=%{y}<extra></extra>\",\"legendgroup\":\"Chicago White Sox\",\"marker\":{\"color\":\"#19d3f3\",\"symbol\":\"circle\"},\"mode\":\"markers\",\"name\":\"Chicago White Sox\",\"orientation\":\"v\",\"showlegend\":true,\"x\":[24271],\"xaxis\":\"x\",\"y\":[29983],\"yaxis\":\"y\",\"type\":\"scatter\"},{\"hovertemplate\":\"TEAM=Cincinnati<br>2012_AVG_home=%{x}<br>2012_AVG_road=%{y}<extra></extra>\",\"legendgroup\":\"Cincinnati\",\"marker\":{\"color\":\"#FF6692\",\"symbol\":\"circle\"},\"mode\":\"markers\",\"name\":\"Cincinnati\",\"orientation\":\"v\",\"showlegend\":true,\"x\":[28978],\"xaxis\":\"x\",\"y\":[30784],\"yaxis\":\"y\",\"type\":\"scatter\"},{\"hovertemplate\":\"TEAM=Cleveland<br>2012_AVG_home=%{x}<br>2012_AVG_road=%{y}<extra></extra>\",\"legendgroup\":\"Cleveland\",\"marker\":{\"color\":\"#B6E880\",\"symbol\":\"circle\"},\"mode\":\"markers\",\"name\":\"Cleveland\",\"orientation\":\"v\",\"showlegend\":true,\"x\":[19797],\"xaxis\":\"x\",\"y\":[28285],\"yaxis\":\"y\",\"type\":\"scatter\"},{\"hovertemplate\":\"TEAM=Colorado<br>2012_AVG_home=%{x}<br>2012_AVG_road=%{y}<extra></extra>\",\"legendgroup\":\"Colorado\",\"marker\":{\"color\":\"#FF97FF\",\"symbol\":\"circle\"},\"mode\":\"markers\",\"name\":\"Colorado\",\"orientation\":\"v\",\"showlegend\":true,\"x\":[32474],\"xaxis\":\"x\",\"y\":[32301],\"yaxis\":\"y\",\"type\":\"scatter\"},{\"hovertemplate\":\"TEAM=Detroit<br>2012_AVG_home=%{x}<br>2012_AVG_road=%{y}<extra></extra>\",\"legendgroup\":\"Detroit\",\"marker\":{\"color\":\"#FECB52\",\"symbol\":\"circle\"},\"mode\":\"markers\",\"name\":\"Detroit\",\"orientation\":\"v\",\"showlegend\":true,\"x\":[37383],\"xaxis\":\"x\",\"y\":[30539],\"yaxis\":\"y\",\"type\":\"scatter\"},{\"hovertemplate\":\"TEAM=Houston<br>2012_AVG_home=%{x}<br>2012_AVG_road=%{y}<extra></extra>\",\"legendgroup\":\"Houston\",\"marker\":{\"color\":\"#636efa\",\"symbol\":\"circle\"},\"mode\":\"markers\",\"name\":\"Houston\",\"orientation\":\"v\",\"showlegend\":true,\"x\":[19848],\"xaxis\":\"x\",\"y\":[31119],\"yaxis\":\"y\",\"type\":\"scatter\"},{\"hovertemplate\":\"TEAM=Kansas City<br>2012_AVG_home=%{x}<br>2012_AVG_road=%{y}<extra></extra>\",\"legendgroup\":\"Kansas City\",\"marker\":{\"color\":\"#EF553B\",\"symbol\":\"circle\"},\"mode\":\"markers\",\"name\":\"Kansas City\",\"orientation\":\"v\",\"showlegend\":true,\"x\":[21748],\"xaxis\":\"x\",\"y\":[27447],\"yaxis\":\"y\",\"type\":\"scatter\"},{\"hovertemplate\":\"TEAM=LA Angels<br>2012_AVG_home=%{x}<br>2012_AVG_road=%{y}<extra></extra>\",\"legendgroup\":\"LA Angels\",\"marker\":{\"color\":\"#00cc96\",\"symbol\":\"circle\"},\"mode\":\"markers\",\"name\":\"LA Angels\",\"orientation\":\"v\",\"showlegend\":true,\"x\":[37799],\"xaxis\":\"x\",\"y\":[30831],\"yaxis\":\"y\",\"type\":\"scatter\"},{\"hovertemplate\":\"TEAM=LA Dodgers<br>2012_AVG_home=%{x}<br>2012_AVG_road=%{y}<extra></extra>\",\"legendgroup\":\"LA Dodgers\",\"marker\":{\"color\":\"#ab63fa\",\"symbol\":\"circle\"},\"mode\":\"markers\",\"name\":\"LA Dodgers\",\"orientation\":\"v\",\"showlegend\":true,\"x\":[41040],\"xaxis\":\"x\",\"y\":[32640],\"yaxis\":\"y\",\"type\":\"scatter\"},{\"hovertemplate\":\"TEAM=Miami<br>2012_AVG_home=%{x}<br>2012_AVG_road=%{y}<extra></extra>\",\"legendgroup\":\"Miami\",\"marker\":{\"color\":\"#FFA15A\",\"symbol\":\"circle\"},\"mode\":\"markers\",\"name\":\"Miami\",\"orientation\":\"v\",\"showlegend\":true,\"x\":[27400],\"xaxis\":\"x\",\"y\":[30986],\"yaxis\":\"y\",\"type\":\"scatter\"},{\"hovertemplate\":\"TEAM=Milwaukee<br>2012_AVG_home=%{x}<br>2012_AVG_road=%{y}<extra></extra>\",\"legendgroup\":\"Milwaukee\",\"marker\":{\"color\":\"#19d3f3\",\"symbol\":\"circle\"},\"mode\":\"markers\",\"name\":\"Milwaukee\",\"orientation\":\"v\",\"showlegend\":true,\"x\":[34955],\"xaxis\":\"x\",\"y\":[30580],\"yaxis\":\"y\",\"type\":\"scatter\"},{\"hovertemplate\":\"TEAM=Minnesota<br>2012_AVG_home=%{x}<br>2012_AVG_road=%{y}<extra></extra>\",\"legendgroup\":\"Minnesota\",\"marker\":{\"color\":\"#FF6692\",\"symbol\":\"circle\"},\"mode\":\"markers\",\"name\":\"Minnesota\",\"orientation\":\"v\",\"showlegend\":true,\"x\":[34275],\"xaxis\":\"x\",\"y\":[28306],\"yaxis\":\"y\",\"type\":\"scatter\"},{\"hovertemplate\":\"TEAM=NY Mets<br>2012_AVG_home=%{x}<br>2012_AVG_road=%{y}<extra></extra>\",\"legendgroup\":\"NY Mets\",\"marker\":{\"color\":\"#B6E880\",\"symbol\":\"circle\"},\"mode\":\"markers\",\"name\":\"NY Mets\",\"orientation\":\"v\",\"showlegend\":true,\"x\":[28035],\"xaxis\":\"x\",\"y\":[33720],\"yaxis\":\"y\",\"type\":\"scatter\"},{\"hovertemplate\":\"TEAM=NY Yankees<br>2012_AVG_home=%{x}<br>2012_AVG_road=%{y}<extra></extra>\",\"legendgroup\":\"NY Yankees\",\"marker\":{\"color\":\"#FF97FF\",\"symbol\":\"circle\"},\"mode\":\"markers\",\"name\":\"NY Yankees\",\"orientation\":\"v\",\"showlegend\":true,\"x\":[43733],\"xaxis\":\"x\",\"y\":[34154],\"yaxis\":\"y\",\"type\":\"scatter\"},{\"hovertemplate\":\"TEAM=Oakland<br>2012_AVG_home=%{x}<br>2012_AVG_road=%{y}<extra></extra>\",\"legendgroup\":\"Oakland\",\"marker\":{\"color\":\"#FECB52\",\"symbol\":\"circle\"},\"mode\":\"markers\",\"name\":\"Oakland\",\"orientation\":\"v\",\"showlegend\":true,\"x\":[20728],\"xaxis\":\"x\",\"y\":[29978],\"yaxis\":\"y\",\"type\":\"scatter\"},{\"hovertemplate\":\"TEAM=Philadelphia<br>2012_AVG_home=%{x}<br>2012_AVG_road=%{y}<extra></extra>\",\"legendgroup\":\"Philadelphia\",\"marker\":{\"color\":\"#636efa\",\"symbol\":\"circle\"},\"mode\":\"markers\",\"name\":\"Philadelphia\",\"orientation\":\"v\",\"showlegend\":true,\"x\":[44021],\"xaxis\":\"x\",\"y\":[31749],\"yaxis\":\"y\",\"type\":\"scatter\"},{\"hovertemplate\":\"TEAM=Pittsburgh<br>2012_AVG_home=%{x}<br>2012_AVG_road=%{y}<extra></extra>\",\"legendgroup\":\"Pittsburgh\",\"marker\":{\"color\":\"#EF553B\",\"symbol\":\"circle\"},\"mode\":\"markers\",\"name\":\"Pittsburgh\",\"orientation\":\"v\",\"showlegend\":true,\"x\":[26148],\"xaxis\":\"x\",\"y\":[31307],\"yaxis\":\"y\",\"type\":\"scatter\"},{\"hovertemplate\":\"TEAM=San Diego<br>2012_AVG_home=%{x}<br>2012_AVG_road=%{y}<extra></extra>\",\"legendgroup\":\"San Diego\",\"marker\":{\"color\":\"#00cc96\",\"symbol\":\"circle\"},\"mode\":\"markers\",\"name\":\"San Diego\",\"orientation\":\"v\",\"showlegend\":true,\"x\":[26218],\"xaxis\":\"x\",\"y\":[31422],\"yaxis\":\"y\",\"type\":\"scatter\"},{\"hovertemplate\":\"TEAM=San Francisco<br>2012_AVG_home=%{x}<br>2012_AVG_road=%{y}<extra></extra>\",\"legendgroup\":\"San Francisco\",\"marker\":{\"color\":\"#ab63fa\",\"symbol\":\"circle\"},\"mode\":\"markers\",\"name\":\"San Francisco\",\"orientation\":\"v\",\"showlegend\":true,\"x\":[41695],\"xaxis\":\"x\",\"y\":[32889],\"yaxis\":\"y\",\"type\":\"scatter\"},{\"hovertemplate\":\"TEAM=Seattle<br>2012_AVG_home=%{x}<br>2012_AVG_road=%{y}<extra></extra>\",\"legendgroup\":\"Seattle\",\"marker\":{\"color\":\"#FFA15A\",\"symbol\":\"circle\"},\"mode\":\"markers\",\"name\":\"Seattle\",\"orientation\":\"v\",\"showlegend\":true,\"x\":[21258],\"xaxis\":\"x\",\"y\":[28262],\"yaxis\":\"y\",\"type\":\"scatter\"},{\"hovertemplate\":\"TEAM=St. Louis<br>2012_AVG_home=%{x}<br>2012_AVG_road=%{y}<extra></extra>\",\"legendgroup\":\"St. Louis\",\"marker\":{\"color\":\"#19d3f3\",\"symbol\":\"circle\"},\"mode\":\"markers\",\"name\":\"St. Louis\",\"orientation\":\"v\",\"showlegend\":true,\"x\":[40272],\"xaxis\":\"x\",\"y\":[31436],\"yaxis\":\"y\",\"type\":\"scatter\"},{\"hovertemplate\":\"TEAM=Tampa Bay<br>2012_AVG_home=%{x}<br>2012_AVG_road=%{y}<extra></extra>\",\"legendgroup\":\"Tampa Bay\",\"marker\":{\"color\":\"#FF6692\",\"symbol\":\"circle\"},\"mode\":\"markers\",\"name\":\"Tampa Bay\",\"orientation\":\"v\",\"showlegend\":true,\"x\":[19255],\"xaxis\":\"x\",\"y\":[30403],\"yaxis\":\"y\",\"type\":\"scatter\"},{\"hovertemplate\":\"TEAM=Texas<br>2012_AVG_home=%{x}<br>2012_AVG_road=%{y}<extra></extra>\",\"legendgroup\":\"Texas\",\"marker\":{\"color\":\"#B6E880\",\"symbol\":\"circle\"},\"mode\":\"markers\",\"name\":\"Texas\",\"orientation\":\"v\",\"showlegend\":true,\"x\":[42719],\"xaxis\":\"x\",\"y\":[28209],\"yaxis\":\"y\",\"type\":\"scatter\"},{\"hovertemplate\":\"TEAM=Toronto<br>2012_AVG_home=%{x}<br>2012_AVG_road=%{y}<extra></extra>\",\"legendgroup\":\"Toronto\",\"marker\":{\"color\":\"#FF97FF\",\"symbol\":\"circle\"},\"mode\":\"markers\",\"name\":\"Toronto\",\"orientation\":\"v\",\"showlegend\":true,\"x\":[25921],\"xaxis\":\"x\",\"y\":[29075],\"yaxis\":\"y\",\"type\":\"scatter\"},{\"hovertemplate\":\"TEAM=Washington<br>2012_AVG_home=%{x}<br>2012_AVG_road=%{y}<extra></extra>\",\"legendgroup\":\"Washington\",\"marker\":{\"color\":\"#FECB52\",\"symbol\":\"circle\"},\"mode\":\"markers\",\"name\":\"Washington\",\"orientation\":\"v\",\"showlegend\":true,\"x\":[30010],\"xaxis\":\"x\",\"y\":[33116],\"yaxis\":\"y\",\"type\":\"scatter\"}],                        {\"template\":{\"data\":{\"bar\":[{\"error_x\":{\"color\":\"#2a3f5f\"},\"error_y\":{\"color\":\"#2a3f5f\"},\"marker\":{\"line\":{\"color\":\"#E5ECF6\",\"width\":0.5},\"pattern\":{\"fillmode\":\"overlay\",\"size\":10,\"solidity\":0.2}},\"type\":\"bar\"}],\"barpolar\":[{\"marker\":{\"line\":{\"color\":\"#E5ECF6\",\"width\":0.5},\"pattern\":{\"fillmode\":\"overlay\",\"size\":10,\"solidity\":0.2}},\"type\":\"barpolar\"}],\"carpet\":[{\"aaxis\":{\"endlinecolor\":\"#2a3f5f\",\"gridcolor\":\"white\",\"linecolor\":\"white\",\"minorgridcolor\":\"white\",\"startlinecolor\":\"#2a3f5f\"},\"baxis\":{\"endlinecolor\":\"#2a3f5f\",\"gridcolor\":\"white\",\"linecolor\":\"white\",\"minorgridcolor\":\"white\",\"startlinecolor\":\"#2a3f5f\"},\"type\":\"carpet\"}],\"choropleth\":[{\"colorbar\":{\"outlinewidth\":0,\"ticks\":\"\"},\"type\":\"choropleth\"}],\"contour\":[{\"colorbar\":{\"outlinewidth\":0,\"ticks\":\"\"},\"colorscale\":[[0.0,\"#0d0887\"],[0.1111111111111111,\"#46039f\"],[0.2222222222222222,\"#7201a8\"],[0.3333333333333333,\"#9c179e\"],[0.4444444444444444,\"#bd3786\"],[0.5555555555555556,\"#d8576b\"],[0.6666666666666666,\"#ed7953\"],[0.7777777777777778,\"#fb9f3a\"],[0.8888888888888888,\"#fdca26\"],[1.0,\"#f0f921\"]],\"type\":\"contour\"}],\"contourcarpet\":[{\"colorbar\":{\"outlinewidth\":0,\"ticks\":\"\"},\"type\":\"contourcarpet\"}],\"heatmap\":[{\"colorbar\":{\"outlinewidth\":0,\"ticks\":\"\"},\"colorscale\":[[0.0,\"#0d0887\"],[0.1111111111111111,\"#46039f\"],[0.2222222222222222,\"#7201a8\"],[0.3333333333333333,\"#9c179e\"],[0.4444444444444444,\"#bd3786\"],[0.5555555555555556,\"#d8576b\"],[0.6666666666666666,\"#ed7953\"],[0.7777777777777778,\"#fb9f3a\"],[0.8888888888888888,\"#fdca26\"],[1.0,\"#f0f921\"]],\"type\":\"heatmap\"}],\"heatmapgl\":[{\"colorbar\":{\"outlinewidth\":0,\"ticks\":\"\"},\"colorscale\":[[0.0,\"#0d0887\"],[0.1111111111111111,\"#46039f\"],[0.2222222222222222,\"#7201a8\"],[0.3333333333333333,\"#9c179e\"],[0.4444444444444444,\"#bd3786\"],[0.5555555555555556,\"#d8576b\"],[0.6666666666666666,\"#ed7953\"],[0.7777777777777778,\"#fb9f3a\"],[0.8888888888888888,\"#fdca26\"],[1.0,\"#f0f921\"]],\"type\":\"heatmapgl\"}],\"histogram\":[{\"marker\":{\"pattern\":{\"fillmode\":\"overlay\",\"size\":10,\"solidity\":0.2}},\"type\":\"histogram\"}],\"histogram2d\":[{\"colorbar\":{\"outlinewidth\":0,\"ticks\":\"\"},\"colorscale\":[[0.0,\"#0d0887\"],[0.1111111111111111,\"#46039f\"],[0.2222222222222222,\"#7201a8\"],[0.3333333333333333,\"#9c179e\"],[0.4444444444444444,\"#bd3786\"],[0.5555555555555556,\"#d8576b\"],[0.6666666666666666,\"#ed7953\"],[0.7777777777777778,\"#fb9f3a\"],[0.8888888888888888,\"#fdca26\"],[1.0,\"#f0f921\"]],\"type\":\"histogram2d\"}],\"histogram2dcontour\":[{\"colorbar\":{\"outlinewidth\":0,\"ticks\":\"\"},\"colorscale\":[[0.0,\"#0d0887\"],[0.1111111111111111,\"#46039f\"],[0.2222222222222222,\"#7201a8\"],[0.3333333333333333,\"#9c179e\"],[0.4444444444444444,\"#bd3786\"],[0.5555555555555556,\"#d8576b\"],[0.6666666666666666,\"#ed7953\"],[0.7777777777777778,\"#fb9f3a\"],[0.8888888888888888,\"#fdca26\"],[1.0,\"#f0f921\"]],\"type\":\"histogram2dcontour\"}],\"mesh3d\":[{\"colorbar\":{\"outlinewidth\":0,\"ticks\":\"\"},\"type\":\"mesh3d\"}],\"parcoords\":[{\"line\":{\"colorbar\":{\"outlinewidth\":0,\"ticks\":\"\"}},\"type\":\"parcoords\"}],\"pie\":[{\"automargin\":true,\"type\":\"pie\"}],\"scatter\":[{\"marker\":{\"colorbar\":{\"outlinewidth\":0,\"ticks\":\"\"}},\"type\":\"scatter\"}],\"scatter3d\":[{\"line\":{\"colorbar\":{\"outlinewidth\":0,\"ticks\":\"\"}},\"marker\":{\"colorbar\":{\"outlinewidth\":0,\"ticks\":\"\"}},\"type\":\"scatter3d\"}],\"scattercarpet\":[{\"marker\":{\"colorbar\":{\"outlinewidth\":0,\"ticks\":\"\"}},\"type\":\"scattercarpet\"}],\"scattergeo\":[{\"marker\":{\"colorbar\":{\"outlinewidth\":0,\"ticks\":\"\"}},\"type\":\"scattergeo\"}],\"scattergl\":[{\"marker\":{\"colorbar\":{\"outlinewidth\":0,\"ticks\":\"\"}},\"type\":\"scattergl\"}],\"scattermapbox\":[{\"marker\":{\"colorbar\":{\"outlinewidth\":0,\"ticks\":\"\"}},\"type\":\"scattermapbox\"}],\"scatterpolar\":[{\"marker\":{\"colorbar\":{\"outlinewidth\":0,\"ticks\":\"\"}},\"type\":\"scatterpolar\"}],\"scatterpolargl\":[{\"marker\":{\"colorbar\":{\"outlinewidth\":0,\"ticks\":\"\"}},\"type\":\"scatterpolargl\"}],\"scatterternary\":[{\"marker\":{\"colorbar\":{\"outlinewidth\":0,\"ticks\":\"\"}},\"type\":\"scatterternary\"}],\"surface\":[{\"colorbar\":{\"outlinewidth\":0,\"ticks\":\"\"},\"colorscale\":[[0.0,\"#0d0887\"],[0.1111111111111111,\"#46039f\"],[0.2222222222222222,\"#7201a8\"],[0.3333333333333333,\"#9c179e\"],[0.4444444444444444,\"#bd3786\"],[0.5555555555555556,\"#d8576b\"],[0.6666666666666666,\"#ed7953\"],[0.7777777777777778,\"#fb9f3a\"],[0.8888888888888888,\"#fdca26\"],[1.0,\"#f0f921\"]],\"type\":\"surface\"}],\"table\":[{\"cells\":{\"fill\":{\"color\":\"#EBF0F8\"},\"line\":{\"color\":\"white\"}},\"header\":{\"fill\":{\"color\":\"#C8D4E3\"},\"line\":{\"color\":\"white\"}},\"type\":\"table\"}]},\"layout\":{\"annotationdefaults\":{\"arrowcolor\":\"#2a3f5f\",\"arrowhead\":0,\"arrowwidth\":1},\"autotypenumbers\":\"strict\",\"coloraxis\":{\"colorbar\":{\"outlinewidth\":0,\"ticks\":\"\"}},\"colorscale\":{\"diverging\":[[0,\"#8e0152\"],[0.1,\"#c51b7d\"],[0.2,\"#de77ae\"],[0.3,\"#f1b6da\"],[0.4,\"#fde0ef\"],[0.5,\"#f7f7f7\"],[0.6,\"#e6f5d0\"],[0.7,\"#b8e186\"],[0.8,\"#7fbc41\"],[0.9,\"#4d9221\"],[1,\"#276419\"]],\"sequential\":[[0.0,\"#0d0887\"],[0.1111111111111111,\"#46039f\"],[0.2222222222222222,\"#7201a8\"],[0.3333333333333333,\"#9c179e\"],[0.4444444444444444,\"#bd3786\"],[0.5555555555555556,\"#d8576b\"],[0.6666666666666666,\"#ed7953\"],[0.7777777777777778,\"#fb9f3a\"],[0.8888888888888888,\"#fdca26\"],[1.0,\"#f0f921\"]],\"sequentialminus\":[[0.0,\"#0d0887\"],[0.1111111111111111,\"#46039f\"],[0.2222222222222222,\"#7201a8\"],[0.3333333333333333,\"#9c179e\"],[0.4444444444444444,\"#bd3786\"],[0.5555555555555556,\"#d8576b\"],[0.6666666666666666,\"#ed7953\"],[0.7777777777777778,\"#fb9f3a\"],[0.8888888888888888,\"#fdca26\"],[1.0,\"#f0f921\"]]},\"colorway\":[\"#636efa\",\"#EF553B\",\"#00cc96\",\"#ab63fa\",\"#FFA15A\",\"#19d3f3\",\"#FF6692\",\"#B6E880\",\"#FF97FF\",\"#FECB52\"],\"font\":{\"color\":\"#2a3f5f\"},\"geo\":{\"bgcolor\":\"white\",\"lakecolor\":\"white\",\"landcolor\":\"#E5ECF6\",\"showlakes\":true,\"showland\":true,\"subunitcolor\":\"white\"},\"hoverlabel\":{\"align\":\"left\"},\"hovermode\":\"closest\",\"mapbox\":{\"style\":\"light\"},\"paper_bgcolor\":\"white\",\"plot_bgcolor\":\"#E5ECF6\",\"polar\":{\"angularaxis\":{\"gridcolor\":\"white\",\"linecolor\":\"white\",\"ticks\":\"\"},\"bgcolor\":\"#E5ECF6\",\"radialaxis\":{\"gridcolor\":\"white\",\"linecolor\":\"white\",\"ticks\":\"\"}},\"scene\":{\"xaxis\":{\"backgroundcolor\":\"#E5ECF6\",\"gridcolor\":\"white\",\"gridwidth\":2,\"linecolor\":\"white\",\"showbackground\":true,\"ticks\":\"\",\"zerolinecolor\":\"white\"},\"yaxis\":{\"backgroundcolor\":\"#E5ECF6\",\"gridcolor\":\"white\",\"gridwidth\":2,\"linecolor\":\"white\",\"showbackground\":true,\"ticks\":\"\",\"zerolinecolor\":\"white\"},\"zaxis\":{\"backgroundcolor\":\"#E5ECF6\",\"gridcolor\":\"white\",\"gridwidth\":2,\"linecolor\":\"white\",\"showbackground\":true,\"ticks\":\"\",\"zerolinecolor\":\"white\"}},\"shapedefaults\":{\"line\":{\"color\":\"#2a3f5f\"}},\"ternary\":{\"aaxis\":{\"gridcolor\":\"white\",\"linecolor\":\"white\",\"ticks\":\"\"},\"baxis\":{\"gridcolor\":\"white\",\"linecolor\":\"white\",\"ticks\":\"\"},\"bgcolor\":\"#E5ECF6\",\"caxis\":{\"gridcolor\":\"white\",\"linecolor\":\"white\",\"ticks\":\"\"}},\"title\":{\"x\":0.05},\"xaxis\":{\"automargin\":true,\"gridcolor\":\"white\",\"linecolor\":\"white\",\"ticks\":\"\",\"title\":{\"standoff\":15},\"zerolinecolor\":\"white\",\"zerolinewidth\":2},\"yaxis\":{\"automargin\":true,\"gridcolor\":\"white\",\"linecolor\":\"white\",\"ticks\":\"\",\"title\":{\"standoff\":15},\"zerolinecolor\":\"white\",\"zerolinewidth\":2}}},\"xaxis\":{\"anchor\":\"y\",\"domain\":[0.0,1.0],\"title\":{\"text\":\"2012_AVG_home\"}},\"yaxis\":{\"anchor\":\"x\",\"domain\":[0.0,1.0],\"title\":{\"text\":\"2012_AVG_road\"}},\"legend\":{\"title\":{\"text\":\"TEAM\"},\"tracegroupgap\":0},\"title\":{\"text\":\"2012\"}},                        {\"responsive\": true}                    ).then(function(){\n",
       "                            \n",
       "var gd = document.getElementById('b2fd6562-fd20-41a2-808a-5d791dd741a4');\n",
       "var x = new MutationObserver(function (mutations, observer) {{\n",
       "        var display = window.getComputedStyle(gd).display;\n",
       "        if (!display || display === 'none') {{\n",
       "            console.log([gd, 'removed!']);\n",
       "            Plotly.purge(gd);\n",
       "            observer.disconnect();\n",
       "        }}\n",
       "}});\n",
       "\n",
       "// Listen for the removal of the full notebook cells\n",
       "var notebookContainer = gd.closest('#notebook-container');\n",
       "if (notebookContainer) {{\n",
       "    x.observe(notebookContainer, {childList: true});\n",
       "}}\n",
       "\n",
       "// Listen for the clearing of the current output cell\n",
       "var outputEl = gd.closest('.output');\n",
       "if (outputEl) {{\n",
       "    x.observe(outputEl, {childList: true});\n",
       "}}\n",
       "\n",
       "                        })                };                });            </script>        </div>"
      ]
     },
     "metadata": {},
     "output_type": "display_data"
    }
   ],
   "source": [
    "fig3 = px.scatter(data_frame = home_road, x='2012_AVG_home', y='2012_AVG_road',color='TEAM',title='2012')\n",
    "fig3.show()\n",
    "fig3.write_html(\"2012.html\", full_html=False, include_plotlyjs='cdn')"
   ]
  }
 ],
 "metadata": {
  "kernelspec": {
   "display_name": "Python 3 (ipykernel)",
   "language": "python",
   "name": "python3"
  },
  "language_info": {
   "codemirror_mode": {
    "name": "ipython",
    "version": 3
   },
   "file_extension": ".py",
   "mimetype": "text/x-python",
   "name": "python",
   "nbconvert_exporter": "python",
   "pygments_lexer": "ipython3",
   "version": "3.9.12"
  }
 },
 "nbformat": 4,
 "nbformat_minor": 5
}
